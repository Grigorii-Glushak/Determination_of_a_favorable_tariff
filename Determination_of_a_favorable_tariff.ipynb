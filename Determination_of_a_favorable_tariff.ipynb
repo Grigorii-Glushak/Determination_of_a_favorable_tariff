{
 "cells": [
  {
   "cell_type": "markdown",
   "metadata": {},
   "source": [
    "# Определение выгодного тарифа для телеком компании"
   ]
  },
  {
   "cell_type": "markdown",
   "metadata": {},
   "source": [
    "***Описание проекта:*** "
   ]
  },
  {
   "cell_type": "markdown",
   "metadata": {},
   "source": [
    "Клиентам предлагают два тарифных плана: «Смарт» и «Ультра». Чтобы скорректировать рекламный бюджет, коммерческий департамент хочет понять, какой тариф приносит больше денег.\n",
    "\n",
    "Вам нужно сделать предварительный анализ тарифов на небольшой выборке клиентов. В вашем распоряжении данные 500 пользователей «Мегалайна»: кто они, откуда, каким тарифом пользуются, сколько звонков и сообщений каждый отправил за год. Нужно проанализировать поведение клиентов и сделать вывод — какой тариф лучше."
   ]
  },
  {
   "cell_type": "markdown",
   "metadata": {},
   "source": [
    "***Описание тарифов:***"
   ]
  },
  {
   "cell_type": "markdown",
   "metadata": {},
   "source": [
    "*Тариф «Смарт»*"
   ]
  },
  {
   "cell_type": "markdown",
   "metadata": {},
   "source": [
    "1. Ежемесячная плата: 550 рублей\n",
    "2. Включено 500 минут разговора, 50 сообщений и 15 Гб интернет-трафика\n",
    "3. Стоимость услуг сверх тарифного пакета:\n",
    "    - Минута разговора — 3 рубля. Количество использованных минут и мегабайтов «Мегалайн» всегда округляет вверх. Если пользователь проговорил всего 1 секунду, в тарифе засчитывается целая минута.\n",
    "    - Сообщение — 3 рубля.\n",
    "    - 1 Гб интернет-трафика — 200 рублей."
   ]
  },
  {
   "cell_type": "markdown",
   "metadata": {},
   "source": [
    "*Тариф «Ультра»*"
   ]
  },
  {
   "cell_type": "markdown",
   "metadata": {},
   "source": [
    "1. Ежемесячная плата: 1950 рублей\n",
    "2. Включено 3000 минут разговора, 1000 сообщений и 30 Гб интернет-трафика\n",
    "3. Стоимость услуг сверх тарифного пакета:\n",
    "    - Минута разговора — 1 рубль;\n",
    "    - Сообщение — 1 рубль;\n",
    "    - 1 Гб интернет-трафика: 150 рублей."
   ]
  },
  {
   "cell_type": "markdown",
   "metadata": {},
   "source": [
    "***Описание данных:***"
   ]
  },
  {
   "cell_type": "markdown",
   "metadata": {},
   "source": [
    "- `calls.csv` - данные по звонкам; \n",
    "- `internet.csv` - данные по использованию интернета;\n",
    "- `messages.csv` - данные по использованию сообщений (SMS);\n",
    "- `tariffs.csv` - данные о текущем тарифе;\n",
    "- `users.csv` - данные о пользователе."
   ]
  },
  {
   "cell_type": "markdown",
   "metadata": {},
   "source": [
    "***План работы над проектом:***"
   ]
  },
  {
   "cell_type": "markdown",
   "metadata": {},
   "source": [
    "1. Знакомство с данными и предобработка;\n",
    "2. Агрегация данных; \n",
    "3. Анализ данных и подсчёт выручки; \n",
    "4. Проверка гипотез; \n",
    "5. Общий вывод."
   ]
  },
  {
   "cell_type": "markdown",
   "metadata": {},
   "source": [
    "### Знакомство с данными и предобработка"
   ]
  },
  {
   "cell_type": "code",
   "execution_count": 1,
   "metadata": {},
   "outputs": [],
   "source": [
    "import pandas as pd\n",
    "import seaborn as sns\n",
    "import numpy as np\n",
    "import matplotlib.pyplot as plt\n",
    "from scipy import stats as st\n",
    "\n",
    "sns.set(rc={'figure.figsize': (15, 8)})"
   ]
  },
  {
   "cell_type": "code",
   "execution_count": 2,
   "metadata": {},
   "outputs": [],
   "source": [
    "def start(df):\n",
    "        df.info()\n",
    "        print('\\n',df.describe())\n",
    "        display(df.sample(5))\n",
    "        print('Количество пропусков в таблице:', df.isna().sum().sum(), '\\n')\n",
    "        print(df.isna().sum(), '\\n')\n",
    "        print('Количество дубликатов в таблице:',  df.duplicated().sum())\n",
    "        df.hist(figsize=(15, 8));"
   ]
  },
  {
   "cell_type": "markdown",
   "metadata": {},
   "source": [
    "Для начала подгрузим таблицу со звонками."
   ]
  },
  {
   "cell_type": "code",
   "execution_count": 3,
   "metadata": {
    "scrolled": false
   },
   "outputs": [
    {
     "name": "stdout",
     "output_type": "stream",
     "text": [
      "<class 'pandas.core.frame.DataFrame'>\n",
      "RangeIndex: 202607 entries, 0 to 202606\n",
      "Data columns (total 4 columns):\n",
      " #   Column     Non-Null Count   Dtype  \n",
      "---  ------     --------------   -----  \n",
      " 0   id         202607 non-null  object \n",
      " 1   call_date  202607 non-null  object \n",
      " 2   duration   202607 non-null  float64\n",
      " 3   user_id    202607 non-null  int64  \n",
      "dtypes: float64(1), int64(1), object(2)\n",
      "memory usage: 6.2+ MB\n",
      "\n",
      "             duration        user_id\n",
      "count  202607.000000  202607.000000\n",
      "mean        6.755887    1253.940619\n",
      "std         5.843365     144.722751\n",
      "min         0.000000    1000.000000\n",
      "25%         1.300000    1126.000000\n",
      "50%         6.000000    1260.000000\n",
      "75%        10.700000    1379.000000\n",
      "max        38.000000    1499.000000\n"
     ]
    },
    {
     "data": {
      "text/html": [
       "<div>\n",
       "<style scoped>\n",
       "    .dataframe tbody tr th:only-of-type {\n",
       "        vertical-align: middle;\n",
       "    }\n",
       "\n",
       "    .dataframe tbody tr th {\n",
       "        vertical-align: top;\n",
       "    }\n",
       "\n",
       "    .dataframe thead th {\n",
       "        text-align: right;\n",
       "    }\n",
       "</style>\n",
       "<table border=\"1\" class=\"dataframe\">\n",
       "  <thead>\n",
       "    <tr style=\"text-align: right;\">\n",
       "      <th></th>\n",
       "      <th>id</th>\n",
       "      <th>call_date</th>\n",
       "      <th>duration</th>\n",
       "      <th>user_id</th>\n",
       "    </tr>\n",
       "  </thead>\n",
       "  <tbody>\n",
       "    <tr>\n",
       "      <th>55838</th>\n",
       "      <td>1142_482</td>\n",
       "      <td>2018-11-04</td>\n",
       "      <td>2.93</td>\n",
       "      <td>1142</td>\n",
       "    </tr>\n",
       "    <tr>\n",
       "      <th>57892</th>\n",
       "      <td>1146_111</td>\n",
       "      <td>2018-08-27</td>\n",
       "      <td>0.00</td>\n",
       "      <td>1146</td>\n",
       "    </tr>\n",
       "    <tr>\n",
       "      <th>108972</th>\n",
       "      <td>1281_405</td>\n",
       "      <td>2018-09-16</td>\n",
       "      <td>0.00</td>\n",
       "      <td>1281</td>\n",
       "    </tr>\n",
       "    <tr>\n",
       "      <th>152698</th>\n",
       "      <td>1380_333</td>\n",
       "      <td>2018-12-16</td>\n",
       "      <td>4.97</td>\n",
       "      <td>1380</td>\n",
       "    </tr>\n",
       "    <tr>\n",
       "      <th>17284</th>\n",
       "      <td>1048_74</td>\n",
       "      <td>2018-11-12</td>\n",
       "      <td>4.99</td>\n",
       "      <td>1048</td>\n",
       "    </tr>\n",
       "  </tbody>\n",
       "</table>\n",
       "</div>"
      ],
      "text/plain": [
       "              id   call_date  duration  user_id\n",
       "55838   1142_482  2018-11-04      2.93     1142\n",
       "57892   1146_111  2018-08-27      0.00     1146\n",
       "108972  1281_405  2018-09-16      0.00     1281\n",
       "152698  1380_333  2018-12-16      4.97     1380\n",
       "17284    1048_74  2018-11-12      4.99     1048"
      ]
     },
     "metadata": {},
     "output_type": "display_data"
    },
    {
     "name": "stdout",
     "output_type": "stream",
     "text": [
      "Количество пропусков в таблице: 0 \n",
      "\n",
      "id           0\n",
      "call_date    0\n",
      "duration     0\n",
      "user_id      0\n",
      "dtype: int64 \n",
      "\n",
      "Количество дубликатов в таблице: 0\n"
     ]
    },
    {
     "data": {
      "image/png": "[encoded data removed]",
      "text/plain": [
       "<Figure size 1080x576 with 2 Axes>"
      ]
     },
     "metadata": {},
     "output_type": "display_data"
    }
   ],
   "source": [
    "calls = pd.read_csv('calls.csv')\n",
    "start(calls)"
   ]
  },
  {
   "cell_type": "markdown",
   "metadata": {},
   "source": [
    "В таблице не правильно обозначен формат времени столбца. Переведём в правильный формат. "
   ]
  },
  {
   "cell_type": "code",
   "execution_count": 4,
   "metadata": {},
   "outputs": [
    {
     "data": {
      "text/plain": [
       "dtype('<M8[ns]')"
      ]
     },
     "execution_count": 4,
     "metadata": {},
     "output_type": "execute_result"
    }
   ],
   "source": [
    "calls['call_date'] = pd.to_datetime(calls['call_date'], format='%Y-%m-%d')\n",
    "calls['call_date'].dtypes"
   ]
  },
  {
   "cell_type": "markdown",
   "metadata": {},
   "source": [
    "Так же мы округлим продолжительность звонков и приведём к типу `int`."
   ]
  },
  {
   "cell_type": "code",
   "execution_count": 5,
   "metadata": {},
   "outputs": [
    {
     "data": {
      "text/plain": [
       "dtype('int32')"
      ]
     },
     "execution_count": 5,
     "metadata": {},
     "output_type": "execute_result"
    }
   ],
   "source": [
    "calls['duration'] = np.ceil(calls['duration']).astype('int')\n",
    "calls['duration'].dtypes"
   ]
  },
  {
   "cell_type": "markdown",
   "metadata": {},
   "source": [
    "В данных есть звонки с нулевой продолжительностью. Это обозначены пропущенные звонки, поэтому их не нужно удалять. Далее подгрузим таблицу `internet`."
   ]
  },
  {
   "cell_type": "code",
   "execution_count": 6,
   "metadata": {
    "scrolled": false
   },
   "outputs": [
    {
     "name": "stdout",
     "output_type": "stream",
     "text": [
      "<class 'pandas.core.frame.DataFrame'>\n",
      "RangeIndex: 149396 entries, 0 to 149395\n",
      "Data columns (total 5 columns):\n",
      " #   Column        Non-Null Count   Dtype  \n",
      "---  ------        --------------   -----  \n",
      " 0   Unnamed: 0    149396 non-null  int64  \n",
      " 1   id            149396 non-null  object \n",
      " 2   mb_used       149396 non-null  float64\n",
      " 3   session_date  149396 non-null  object \n",
      " 4   user_id       149396 non-null  int64  \n",
      "dtypes: float64(1), int64(2), object(2)\n",
      "memory usage: 5.7+ MB\n",
      "\n",
      "           Unnamed: 0        mb_used        user_id\n",
      "count  149396.000000  149396.000000  149396.000000\n",
      "mean    74697.500000     370.192426    1252.099842\n",
      "std     43127.054745     278.300951     144.050823\n",
      "min         0.000000       0.000000    1000.000000\n",
      "25%     37348.750000     138.187500    1130.000000\n",
      "50%     74697.500000     348.015000    1251.000000\n",
      "75%    112046.250000     559.552500    1380.000000\n",
      "max    149395.000000    1724.830000    1499.000000\n"
     ]
    },
    {
     "data": {
      "text/html": [
       "<div>\n",
       "<style scoped>\n",
       "    .dataframe tbody tr th:only-of-type {\n",
       "        vertical-align: middle;\n",
       "    }\n",
       "\n",
       "    .dataframe tbody tr th {\n",
       "        vertical-align: top;\n",
       "    }\n",
       "\n",
       "    .dataframe thead th {\n",
       "        text-align: right;\n",
       "    }\n",
       "</style>\n",
       "<table border=\"1\" class=\"dataframe\">\n",
       "  <thead>\n",
       "    <tr style=\"text-align: right;\">\n",
       "      <th></th>\n",
       "      <th>Unnamed: 0</th>\n",
       "      <th>id</th>\n",
       "      <th>mb_used</th>\n",
       "      <th>session_date</th>\n",
       "      <th>user_id</th>\n",
       "    </tr>\n",
       "  </thead>\n",
       "  <tbody>\n",
       "    <tr>\n",
       "      <th>121970</th>\n",
       "      <td>121970</td>\n",
       "      <td>1411_160</td>\n",
       "      <td>387.15</td>\n",
       "      <td>2018-07-27</td>\n",
       "      <td>1411</td>\n",
       "    </tr>\n",
       "    <tr>\n",
       "      <th>7552</th>\n",
       "      <td>7552</td>\n",
       "      <td>1026_20</td>\n",
       "      <td>0.00</td>\n",
       "      <td>2018-11-12</td>\n",
       "      <td>1026</td>\n",
       "    </tr>\n",
       "    <tr>\n",
       "      <th>92981</th>\n",
       "      <td>92981</td>\n",
       "      <td>1314_335</td>\n",
       "      <td>285.64</td>\n",
       "      <td>2018-08-21</td>\n",
       "      <td>1314</td>\n",
       "    </tr>\n",
       "    <tr>\n",
       "      <th>100638</th>\n",
       "      <td>100638</td>\n",
       "      <td>1338_28</td>\n",
       "      <td>173.04</td>\n",
       "      <td>2018-06-28</td>\n",
       "      <td>1338</td>\n",
       "    </tr>\n",
       "    <tr>\n",
       "      <th>105577</th>\n",
       "      <td>105577</td>\n",
       "      <td>1357_4</td>\n",
       "      <td>208.14</td>\n",
       "      <td>2018-10-16</td>\n",
       "      <td>1357</td>\n",
       "    </tr>\n",
       "  </tbody>\n",
       "</table>\n",
       "</div>"
      ],
      "text/plain": [
       "        Unnamed: 0        id  mb_used session_date  user_id\n",
       "121970      121970  1411_160   387.15   2018-07-27     1411\n",
       "7552          7552   1026_20     0.00   2018-11-12     1026\n",
       "92981        92981  1314_335   285.64   2018-08-21     1314\n",
       "100638      100638   1338_28   173.04   2018-06-28     1338\n",
       "105577      105577    1357_4   208.14   2018-10-16     1357"
      ]
     },
     "metadata": {},
     "output_type": "display_data"
    },
    {
     "name": "stdout",
     "output_type": "stream",
     "text": [
      "Количество пропусков в таблице: 0 \n",
      "\n",
      "Unnamed: 0      0\n",
      "id              0\n",
      "mb_used         0\n",
      "session_date    0\n",
      "user_id         0\n",
      "dtype: int64 \n",
      "\n",
      "Количество дубликатов в таблице: 0\n"
     ]
    },
    {
     "data": {
      "image/png": "[encoded data removed]",
      "text/plain": [
       "<Figure size 1080x576 with 4 Axes>"
      ]
     },
     "metadata": {},
     "output_type": "display_data"
    }
   ],
   "source": [
    "internet = pd.read_csv('internet.csv')\n",
    "start(internet)"
   ]
  },
  {
   "cell_type": "markdown",
   "metadata": {},
   "source": [
    "В этой таблице лишний столбец. Он появляется при неправильном экспорте данных, копируя индекс таблицы. Удалим `Unnamed: 0`."
   ]
  },
  {
   "cell_type": "code",
   "execution_count": 7,
   "metadata": {},
   "outputs": [],
   "source": [
    "internet = internet.drop(columns='Unnamed: 0', axis=1) "
   ]
  },
  {
   "cell_type": "markdown",
   "metadata": {},
   "source": [
    "Так же изменим столбец `session_date` в формат даты."
   ]
  },
  {
   "cell_type": "code",
   "execution_count": 8,
   "metadata": {
    "scrolled": true
   },
   "outputs": [
    {
     "data": {
      "text/plain": [
       "dtype('<M8[ns]')"
      ]
     },
     "execution_count": 8,
     "metadata": {},
     "output_type": "execute_result"
    }
   ],
   "source": [
    "internet['session_date'] = pd.to_datetime(internet['session_date'], format='%Y-%m-%d')\n",
    "internet['session_date'].dtypes"
   ]
  },
  {
   "cell_type": "markdown",
   "metadata": {},
   "source": [
    "Хорошо. Дальше таблица `messages`."
   ]
  },
  {
   "cell_type": "code",
   "execution_count": 9,
   "metadata": {},
   "outputs": [
    {
     "name": "stdout",
     "output_type": "stream",
     "text": [
      "<class 'pandas.core.frame.DataFrame'>\n",
      "RangeIndex: 123036 entries, 0 to 123035\n",
      "Data columns (total 3 columns):\n",
      " #   Column        Non-Null Count   Dtype \n",
      "---  ------        --------------   ----- \n",
      " 0   id            123036 non-null  object\n",
      " 1   message_date  123036 non-null  object\n",
      " 2   user_id       123036 non-null  int64 \n",
      "dtypes: int64(1), object(2)\n",
      "memory usage: 2.8+ MB\n",
      "\n",
      "              user_id\n",
      "count  123036.000000\n",
      "mean     1256.989410\n",
      "std       143.523967\n",
      "min      1000.000000\n",
      "25%      1134.000000\n",
      "50%      1271.000000\n",
      "75%      1381.000000\n",
      "max      1499.000000\n"
     ]
    },
    {
     "data": {
      "text/html": [
       "<div>\n",
       "<style scoped>\n",
       "    .dataframe tbody tr th:only-of-type {\n",
       "        vertical-align: middle;\n",
       "    }\n",
       "\n",
       "    .dataframe tbody tr th {\n",
       "        vertical-align: top;\n",
       "    }\n",
       "\n",
       "    .dataframe thead th {\n",
       "        text-align: right;\n",
       "    }\n",
       "</style>\n",
       "<table border=\"1\" class=\"dataframe\">\n",
       "  <thead>\n",
       "    <tr style=\"text-align: right;\">\n",
       "      <th></th>\n",
       "      <th>id</th>\n",
       "      <th>message_date</th>\n",
       "      <th>user_id</th>\n",
       "    </tr>\n",
       "  </thead>\n",
       "  <tbody>\n",
       "    <tr>\n",
       "      <th>63052</th>\n",
       "      <td>1275_14</td>\n",
       "      <td>2018-07-27</td>\n",
       "      <td>1275</td>\n",
       "    </tr>\n",
       "    <tr>\n",
       "      <th>99777</th>\n",
       "      <td>1409_78</td>\n",
       "      <td>2018-08-18</td>\n",
       "      <td>1409</td>\n",
       "    </tr>\n",
       "    <tr>\n",
       "      <th>38991</th>\n",
       "      <td>1167_297</td>\n",
       "      <td>2018-11-06</td>\n",
       "      <td>1167</td>\n",
       "    </tr>\n",
       "    <tr>\n",
       "      <th>44195</th>\n",
       "      <td>1191_310</td>\n",
       "      <td>2018-07-02</td>\n",
       "      <td>1191</td>\n",
       "    </tr>\n",
       "    <tr>\n",
       "      <th>106523</th>\n",
       "      <td>1431_265</td>\n",
       "      <td>2018-04-27</td>\n",
       "      <td>1431</td>\n",
       "    </tr>\n",
       "  </tbody>\n",
       "</table>\n",
       "</div>"
      ],
      "text/plain": [
       "              id message_date  user_id\n",
       "63052    1275_14   2018-07-27     1275\n",
       "99777    1409_78   2018-08-18     1409\n",
       "38991   1167_297   2018-11-06     1167\n",
       "44195   1191_310   2018-07-02     1191\n",
       "106523  1431_265   2018-04-27     1431"
      ]
     },
     "metadata": {},
     "output_type": "display_data"
    },
    {
     "name": "stdout",
     "output_type": "stream",
     "text": [
      "Количество пропусков в таблице: 0 \n",
      "\n",
      "id              0\n",
      "message_date    0\n",
      "user_id         0\n",
      "dtype: int64 \n",
      "\n",
      "Количество дубликатов в таблице: 0\n"
     ]
    },
    {
     "data": {
      "image/png": "[encoded data removed]",
      "text/plain": [
       "<Figure size 1080x576 with 1 Axes>"
      ]
     },
     "metadata": {},
     "output_type": "display_data"
    }
   ],
   "source": [
    "messages = pd.read_csv('messages.csv')\n",
    "start(messages)"
   ]
  },
  {
   "cell_type": "markdown",
   "metadata": {},
   "source": [
    "Здесь так же сменим тип столбца `message_date` на дату."
   ]
  },
  {
   "cell_type": "code",
   "execution_count": 10,
   "metadata": {},
   "outputs": [
    {
     "data": {
      "text/plain": [
       "dtype('<M8[ns]')"
      ]
     },
     "execution_count": 10,
     "metadata": {},
     "output_type": "execute_result"
    }
   ],
   "source": [
    "messages['message_date'] = pd.to_datetime(messages['message_date'], format='%Y-%m-%d')\n",
    "messages['message_date'].dtypes"
   ]
  },
  {
   "cell_type": "markdown",
   "metadata": {},
   "source": [
    "Теперь таблица `tariffs`."
   ]
  },
  {
   "cell_type": "code",
   "execution_count": 11,
   "metadata": {},
   "outputs": [
    {
     "data": {
      "text/html": [
       "<div>\n",
       "<style scoped>\n",
       "    .dataframe tbody tr th:only-of-type {\n",
       "        vertical-align: middle;\n",
       "    }\n",
       "\n",
       "    .dataframe tbody tr th {\n",
       "        vertical-align: top;\n",
       "    }\n",
       "\n",
       "    .dataframe thead th {\n",
       "        text-align: right;\n",
       "    }\n",
       "</style>\n",
       "<table border=\"1\" class=\"dataframe\">\n",
       "  <thead>\n",
       "    <tr style=\"text-align: right;\">\n",
       "      <th></th>\n",
       "      <th>messages_included</th>\n",
       "      <th>mb_per_month_included</th>\n",
       "      <th>minutes_included</th>\n",
       "      <th>rub_monthly_fee</th>\n",
       "      <th>rub_per_gb</th>\n",
       "      <th>rub_per_message</th>\n",
       "      <th>rub_per_minute</th>\n",
       "      <th>tariff_name</th>\n",
       "    </tr>\n",
       "  </thead>\n",
       "  <tbody>\n",
       "    <tr>\n",
       "      <th>0</th>\n",
       "      <td>50</td>\n",
       "      <td>15360</td>\n",
       "      <td>500</td>\n",
       "      <td>550</td>\n",
       "      <td>200</td>\n",
       "      <td>3</td>\n",
       "      <td>3</td>\n",
       "      <td>smart</td>\n",
       "    </tr>\n",
       "    <tr>\n",
       "      <th>1</th>\n",
       "      <td>1000</td>\n",
       "      <td>30720</td>\n",
       "      <td>3000</td>\n",
       "      <td>1950</td>\n",
       "      <td>150</td>\n",
       "      <td>1</td>\n",
       "      <td>1</td>\n",
       "      <td>ultra</td>\n",
       "    </tr>\n",
       "  </tbody>\n",
       "</table>\n",
       "</div>"
      ],
      "text/plain": [
       "   messages_included  mb_per_month_included  minutes_included  \\\n",
       "0                 50                  15360               500   \n",
       "1               1000                  30720              3000   \n",
       "\n",
       "   rub_monthly_fee  rub_per_gb  rub_per_message  rub_per_minute tariff_name  \n",
       "0              550         200                3               3       smart  \n",
       "1             1950         150                1               1       ultra  "
      ]
     },
     "execution_count": 11,
     "metadata": {},
     "output_type": "execute_result"
    }
   ],
   "source": [
    "tariffs = pd.read_csv('tariffs.csv')\n",
    "tariffs"
   ]
  },
  {
   "cell_type": "code",
   "execution_count": 12,
   "metadata": {},
   "outputs": [
    {
     "name": "stdout",
     "output_type": "stream",
     "text": [
      "<class 'pandas.core.frame.DataFrame'>\n",
      "RangeIndex: 2 entries, 0 to 1\n",
      "Data columns (total 8 columns):\n",
      " #   Column                 Non-Null Count  Dtype \n",
      "---  ------                 --------------  ----- \n",
      " 0   messages_included      2 non-null      int64 \n",
      " 1   mb_per_month_included  2 non-null      int64 \n",
      " 2   minutes_included       2 non-null      int64 \n",
      " 3   rub_monthly_fee        2 non-null      int64 \n",
      " 4   rub_per_gb             2 non-null      int64 \n",
      " 5   rub_per_message        2 non-null      int64 \n",
      " 6   rub_per_minute         2 non-null      int64 \n",
      " 7   tariff_name            2 non-null      object\n",
      "dtypes: int64(7), object(1)\n",
      "memory usage: 256.0+ bytes\n"
     ]
    }
   ],
   "source": [
    "tariffs.info()"
   ]
  },
  {
   "cell_type": "markdown",
   "metadata": {},
   "source": [
    "С этой таблицей порядок. Всего `2 строки`, которые описывают тариф. Посмотрим на таблицу `users`."
   ]
  },
  {
   "cell_type": "code",
   "execution_count": 13,
   "metadata": {},
   "outputs": [
    {
     "name": "stdout",
     "output_type": "stream",
     "text": [
      "<class 'pandas.core.frame.DataFrame'>\n",
      "RangeIndex: 500 entries, 0 to 499\n",
      "Data columns (total 8 columns):\n",
      " #   Column      Non-Null Count  Dtype \n",
      "---  ------      --------------  ----- \n",
      " 0   user_id     500 non-null    int64 \n",
      " 1   age         500 non-null    int64 \n",
      " 2   churn_date  38 non-null     object\n",
      " 3   city        500 non-null    object\n",
      " 4   first_name  500 non-null    object\n",
      " 5   last_name   500 non-null    object\n",
      " 6   reg_date    500 non-null    object\n",
      " 7   tariff      500 non-null    object\n",
      "dtypes: int64(2), object(6)\n",
      "memory usage: 31.4+ KB\n",
      "\n",
      "            user_id        age\n",
      "count   500.000000  500.00000\n",
      "mean   1249.500000   46.58800\n",
      "std     144.481833   16.66763\n",
      "min    1000.000000   18.00000\n",
      "25%    1124.750000   32.00000\n",
      "50%    1249.500000   46.00000\n",
      "75%    1374.250000   62.00000\n",
      "max    1499.000000   75.00000\n"
     ]
    },
    {
     "data": {
      "text/html": [
       "<div>\n",
       "<style scoped>\n",
       "    .dataframe tbody tr th:only-of-type {\n",
       "        vertical-align: middle;\n",
       "    }\n",
       "\n",
       "    .dataframe tbody tr th {\n",
       "        vertical-align: top;\n",
       "    }\n",
       "\n",
       "    .dataframe thead th {\n",
       "        text-align: right;\n",
       "    }\n",
       "</style>\n",
       "<table border=\"1\" class=\"dataframe\">\n",
       "  <thead>\n",
       "    <tr style=\"text-align: right;\">\n",
       "      <th></th>\n",
       "      <th>user_id</th>\n",
       "      <th>age</th>\n",
       "      <th>churn_date</th>\n",
       "      <th>city</th>\n",
       "      <th>first_name</th>\n",
       "      <th>last_name</th>\n",
       "      <th>reg_date</th>\n",
       "      <th>tariff</th>\n",
       "    </tr>\n",
       "  </thead>\n",
       "  <tbody>\n",
       "    <tr>\n",
       "      <th>248</th>\n",
       "      <td>1248</td>\n",
       "      <td>51</td>\n",
       "      <td>NaN</td>\n",
       "      <td>Москва</td>\n",
       "      <td>Анатолий</td>\n",
       "      <td>Минаев</td>\n",
       "      <td>2018-05-28</td>\n",
       "      <td>smart</td>\n",
       "    </tr>\n",
       "    <tr>\n",
       "      <th>11</th>\n",
       "      <td>1011</td>\n",
       "      <td>44</td>\n",
       "      <td>NaN</td>\n",
       "      <td>Самара</td>\n",
       "      <td>Веселина</td>\n",
       "      <td>Алёшко</td>\n",
       "      <td>2018-03-19</td>\n",
       "      <td>smart</td>\n",
       "    </tr>\n",
       "    <tr>\n",
       "      <th>92</th>\n",
       "      <td>1092</td>\n",
       "      <td>73</td>\n",
       "      <td>NaN</td>\n",
       "      <td>Ижевск</td>\n",
       "      <td>Вениамин</td>\n",
       "      <td>Амельченко</td>\n",
       "      <td>2018-06-19</td>\n",
       "      <td>smart</td>\n",
       "    </tr>\n",
       "    <tr>\n",
       "      <th>322</th>\n",
       "      <td>1322</td>\n",
       "      <td>45</td>\n",
       "      <td>NaN</td>\n",
       "      <td>Балашиха</td>\n",
       "      <td>Александр</td>\n",
       "      <td>Сальников</td>\n",
       "      <td>2018-09-09</td>\n",
       "      <td>smart</td>\n",
       "    </tr>\n",
       "    <tr>\n",
       "      <th>32</th>\n",
       "      <td>1032</td>\n",
       "      <td>31</td>\n",
       "      <td>NaN</td>\n",
       "      <td>Ульяновск</td>\n",
       "      <td>Инна</td>\n",
       "      <td>Игнатьева</td>\n",
       "      <td>2018-01-04</td>\n",
       "      <td>smart</td>\n",
       "    </tr>\n",
       "  </tbody>\n",
       "</table>\n",
       "</div>"
      ],
      "text/plain": [
       "     user_id  age churn_date       city first_name   last_name    reg_date  \\\n",
       "248     1248   51        NaN     Москва   Анатолий      Минаев  2018-05-28   \n",
       "11      1011   44        NaN     Самара   Веселина      Алёшко  2018-03-19   \n",
       "92      1092   73        NaN     Ижевск   Вениамин  Амельченко  2018-06-19   \n",
       "322     1322   45        NaN   Балашиха  Александр   Сальников  2018-09-09   \n",
       "32      1032   31        NaN  Ульяновск       Инна   Игнатьева  2018-01-04   \n",
       "\n",
       "    tariff  \n",
       "248  smart  \n",
       "11   smart  \n",
       "92   smart  \n",
       "322  smart  \n",
       "32   smart  "
      ]
     },
     "metadata": {},
     "output_type": "display_data"
    },
    {
     "name": "stdout",
     "output_type": "stream",
     "text": [
      "Количество пропусков в таблице: 462 \n",
      "\n",
      "user_id         0\n",
      "age             0\n",
      "churn_date    462\n",
      "city            0\n",
      "first_name      0\n",
      "last_name       0\n",
      "reg_date        0\n",
      "tariff          0\n",
      "dtype: int64 \n",
      "\n",
      "Количество дубликатов в таблице: 0\n"
     ]
    },
    {
     "data": {
      "image/png": "[encoded data removed]",
      "text/plain": [
       "<Figure size 1080x576 with 2 Axes>"
      ]
     },
     "metadata": {},
     "output_type": "display_data"
    }
   ],
   "source": [
    "users = pd.read_csv('users.csv')\n",
    "start(users)"
   ]
  },
  {
   "cell_type": "markdown",
   "metadata": {},
   "source": [
    "Это данные пользовалетй, которые включают имя и фамилию. Тут сразу `2 столбца` требуюется перевести в формат даты. Это `churn_date` и `reg_date`."
   ]
  },
  {
   "cell_type": "code",
   "execution_count": 14,
   "metadata": {},
   "outputs": [
    {
     "data": {
      "text/plain": [
       "dtype('<M8[ns]')"
      ]
     },
     "execution_count": 14,
     "metadata": {},
     "output_type": "execute_result"
    }
   ],
   "source": [
    "users['churn_date'] = pd.to_datetime(users['churn_date'], format='%Y-%m-%d')\n",
    "users['reg_date'] = pd.to_datetime(users['reg_date'], format='%Y-%m-%d')\n",
    "\n",
    "users['churn_date'].dtypes"
   ]
  },
  {
   "cell_type": "markdown",
   "metadata": {},
   "source": [
    "В столбце `churn_date` (дата расторжения договора) есть `462 пропуска` из `500 записей`. Это активные пользователи компании."
   ]
  },
  {
   "cell_type": "markdown",
   "metadata": {},
   "source": [
    "***Вывод:*** В начале исследования мы подгрузили и обработали данные из 5 таблиц. Что именно мы сделали:\n",
    "- перевели в формат даты столбцы из несколькоих таблиц, а именно `call_date session_date message_date churn_date и reg_date`;\n",
    "- округлили продолжительность звонков и привели к типу `int`;\n",
    "- обнаружили в данных звонки с нулевой продолжительностью. Это обозначены пропущенные звонки, поэтому их не стали удалять;\n",
    "- удалили не нужный столбец с индексами в таблице `internet`;\n",
    "- в столбце `churn_date` (дата расторжения договора) таблицы users есть `462 пропуска из 500 записей`. Это активные пользователи компании. Не стали заполнять пропуски."
   ]
  },
  {
   "cell_type": "markdown",
   "metadata": {},
   "source": [
    "### Агрегация данных"
   ]
  },
  {
   "cell_type": "markdown",
   "metadata": {
    "tags": [
     "start_task"
    ]
   },
   "source": [
    "Создадим столбец `month` в датафрейме `calls` с номером месяца из столбца `call_date`."
   ]
  },
  {
   "cell_type": "code",
   "execution_count": 15,
   "metadata": {},
   "outputs": [
    {
     "data": {
      "text/html": [
       "<div>\n",
       "<style scoped>\n",
       "    .dataframe tbody tr th:only-of-type {\n",
       "        vertical-align: middle;\n",
       "    }\n",
       "\n",
       "    .dataframe tbody tr th {\n",
       "        vertical-align: top;\n",
       "    }\n",
       "\n",
       "    .dataframe thead th {\n",
       "        text-align: right;\n",
       "    }\n",
       "</style>\n",
       "<table border=\"1\" class=\"dataframe\">\n",
       "  <thead>\n",
       "    <tr style=\"text-align: right;\">\n",
       "      <th></th>\n",
       "      <th>id</th>\n",
       "      <th>call_date</th>\n",
       "      <th>duration</th>\n",
       "      <th>user_id</th>\n",
       "      <th>month</th>\n",
       "    </tr>\n",
       "  </thead>\n",
       "  <tbody>\n",
       "    <tr>\n",
       "      <th>200703</th>\n",
       "      <td>1495_90</td>\n",
       "      <td>2018-11-29</td>\n",
       "      <td>19</td>\n",
       "      <td>1495</td>\n",
       "      <td>11</td>\n",
       "    </tr>\n",
       "    <tr>\n",
       "      <th>4655</th>\n",
       "      <td>1012_129</td>\n",
       "      <td>2018-12-20</td>\n",
       "      <td>0</td>\n",
       "      <td>1012</td>\n",
       "      <td>12</td>\n",
       "    </tr>\n",
       "    <tr>\n",
       "      <th>134826</th>\n",
       "      <td>1344_643</td>\n",
       "      <td>2018-07-06</td>\n",
       "      <td>9</td>\n",
       "      <td>1344</td>\n",
       "      <td>7</td>\n",
       "    </tr>\n",
       "  </tbody>\n",
       "</table>\n",
       "</div>"
      ],
      "text/plain": [
       "              id  call_date  duration  user_id  month\n",
       "200703   1495_90 2018-11-29        19     1495     11\n",
       "4655    1012_129 2018-12-20         0     1012     12\n",
       "134826  1344_643 2018-07-06         9     1344      7"
      ]
     },
     "execution_count": 15,
     "metadata": {},
     "output_type": "execute_result"
    }
   ],
   "source": [
    "calls['month'] = pd.DatetimeIndex(calls['call_date']).month\n",
    "calls.sample(3)"
   ]
  },
  {
   "cell_type": "markdown",
   "metadata": {
    "tags": [
     "start_task"
    ]
   },
   "source": [
    "Точно так же создадим столбец `month` в датафрейме `messages` с номером месяца из столбца `message_date`."
   ]
  },
  {
   "cell_type": "code",
   "execution_count": 16,
   "metadata": {},
   "outputs": [
    {
     "data": {
      "text/html": [
       "<div>\n",
       "<style scoped>\n",
       "    .dataframe tbody tr th:only-of-type {\n",
       "        vertical-align: middle;\n",
       "    }\n",
       "\n",
       "    .dataframe tbody tr th {\n",
       "        vertical-align: top;\n",
       "    }\n",
       "\n",
       "    .dataframe thead th {\n",
       "        text-align: right;\n",
       "    }\n",
       "</style>\n",
       "<table border=\"1\" class=\"dataframe\">\n",
       "  <thead>\n",
       "    <tr style=\"text-align: right;\">\n",
       "      <th></th>\n",
       "      <th>id</th>\n",
       "      <th>message_date</th>\n",
       "      <th>user_id</th>\n",
       "      <th>month</th>\n",
       "    </tr>\n",
       "  </thead>\n",
       "  <tbody>\n",
       "    <tr>\n",
       "      <th>110286</th>\n",
       "      <td>1446_116</td>\n",
       "      <td>2018-12-12</td>\n",
       "      <td>1446</td>\n",
       "      <td>12</td>\n",
       "    </tr>\n",
       "    <tr>\n",
       "      <th>20502</th>\n",
       "      <td>1089_505</td>\n",
       "      <td>2018-08-21</td>\n",
       "      <td>1089</td>\n",
       "      <td>8</td>\n",
       "    </tr>\n",
       "    <tr>\n",
       "      <th>95010</th>\n",
       "      <td>1390_48</td>\n",
       "      <td>2018-09-20</td>\n",
       "      <td>1390</td>\n",
       "      <td>9</td>\n",
       "    </tr>\n",
       "  </tbody>\n",
       "</table>\n",
       "</div>"
      ],
      "text/plain": [
       "              id message_date  user_id  month\n",
       "110286  1446_116   2018-12-12     1446     12\n",
       "20502   1089_505   2018-08-21     1089      8\n",
       "95010    1390_48   2018-09-20     1390      9"
      ]
     },
     "execution_count": 16,
     "metadata": {},
     "output_type": "execute_result"
    }
   ],
   "source": [
    "messages['month'] = pd.DatetimeIndex(messages['message_date']).month \n",
    "messages.sample(3)"
   ]
  },
  {
   "cell_type": "markdown",
   "metadata": {
    "tags": [
     "start_task"
    ]
   },
   "source": [
    "И создадим столбец `month` в датафрейме `internet` с номером месяца из столбца `session_date`. Все эти операции нужны для анализа по месяцам."
   ]
  },
  {
   "cell_type": "code",
   "execution_count": 17,
   "metadata": {},
   "outputs": [
    {
     "data": {
      "text/html": [
       "<div>\n",
       "<style scoped>\n",
       "    .dataframe tbody tr th:only-of-type {\n",
       "        vertical-align: middle;\n",
       "    }\n",
       "\n",
       "    .dataframe tbody tr th {\n",
       "        vertical-align: top;\n",
       "    }\n",
       "\n",
       "    .dataframe thead th {\n",
       "        text-align: right;\n",
       "    }\n",
       "</style>\n",
       "<table border=\"1\" class=\"dataframe\">\n",
       "  <thead>\n",
       "    <tr style=\"text-align: right;\">\n",
       "      <th></th>\n",
       "      <th>id</th>\n",
       "      <th>mb_used</th>\n",
       "      <th>session_date</th>\n",
       "      <th>user_id</th>\n",
       "      <th>month</th>\n",
       "    </tr>\n",
       "  </thead>\n",
       "  <tbody>\n",
       "    <tr>\n",
       "      <th>149005</th>\n",
       "      <td>1497_119</td>\n",
       "      <td>1072.92</td>\n",
       "      <td>2018-12-22</td>\n",
       "      <td>1497</td>\n",
       "      <td>12</td>\n",
       "    </tr>\n",
       "    <tr>\n",
       "      <th>32304</th>\n",
       "      <td>1113_148</td>\n",
       "      <td>208.99</td>\n",
       "      <td>2018-07-14</td>\n",
       "      <td>1113</td>\n",
       "      <td>7</td>\n",
       "    </tr>\n",
       "    <tr>\n",
       "      <th>131374</th>\n",
       "      <td>1436_340</td>\n",
       "      <td>450.34</td>\n",
       "      <td>2018-08-04</td>\n",
       "      <td>1436</td>\n",
       "      <td>8</td>\n",
       "    </tr>\n",
       "  </tbody>\n",
       "</table>\n",
       "</div>"
      ],
      "text/plain": [
       "              id  mb_used session_date  user_id  month\n",
       "149005  1497_119  1072.92   2018-12-22     1497     12\n",
       "32304   1113_148   208.99   2018-07-14     1113      7\n",
       "131374  1436_340   450.34   2018-08-04     1436      8"
      ]
     },
     "execution_count": 17,
     "metadata": {},
     "output_type": "execute_result"
    }
   ],
   "source": [
    "internet['month'] = pd.DatetimeIndex(internet['session_date']).month \n",
    "internet.sample(3)"
   ]
  },
  {
   "cell_type": "markdown",
   "metadata": {
    "tags": [
     "start_task"
    ]
   },
   "source": [
    "Далее посчитаем количество сделанных звонков разговора для каждого пользователя по месяцам."
   ]
  },
  {
   "cell_type": "code",
   "execution_count": 18,
   "metadata": {},
   "outputs": [
    {
     "data": {
      "text/html": [
       "<div>\n",
       "<style scoped>\n",
       "    .dataframe tbody tr th:only-of-type {\n",
       "        vertical-align: middle;\n",
       "    }\n",
       "\n",
       "    .dataframe tbody tr th {\n",
       "        vertical-align: top;\n",
       "    }\n",
       "\n",
       "    .dataframe thead th {\n",
       "        text-align: right;\n",
       "    }\n",
       "</style>\n",
       "<table border=\"1\" class=\"dataframe\">\n",
       "  <thead>\n",
       "    <tr style=\"text-align: right;\">\n",
       "      <th></th>\n",
       "      <th></th>\n",
       "      <th>calls</th>\n",
       "    </tr>\n",
       "    <tr>\n",
       "      <th>user_id</th>\n",
       "      <th>month</th>\n",
       "      <th></th>\n",
       "    </tr>\n",
       "  </thead>\n",
       "  <tbody>\n",
       "    <tr>\n",
       "      <th rowspan=\"8\" valign=\"top\">1000</th>\n",
       "      <th>5</th>\n",
       "      <td>22</td>\n",
       "    </tr>\n",
       "    <tr>\n",
       "      <th>6</th>\n",
       "      <td>43</td>\n",
       "    </tr>\n",
       "    <tr>\n",
       "      <th>7</th>\n",
       "      <td>47</td>\n",
       "    </tr>\n",
       "    <tr>\n",
       "      <th>8</th>\n",
       "      <td>52</td>\n",
       "    </tr>\n",
       "    <tr>\n",
       "      <th>9</th>\n",
       "      <td>58</td>\n",
       "    </tr>\n",
       "    <tr>\n",
       "      <th>10</th>\n",
       "      <td>57</td>\n",
       "    </tr>\n",
       "    <tr>\n",
       "      <th>11</th>\n",
       "      <td>43</td>\n",
       "    </tr>\n",
       "    <tr>\n",
       "      <th>12</th>\n",
       "      <td>46</td>\n",
       "    </tr>\n",
       "    <tr>\n",
       "      <th rowspan=\"2\" valign=\"top\">1001</th>\n",
       "      <th>11</th>\n",
       "      <td>59</td>\n",
       "    </tr>\n",
       "    <tr>\n",
       "      <th>12</th>\n",
       "      <td>63</td>\n",
       "    </tr>\n",
       "    <tr>\n",
       "      <th rowspan=\"5\" valign=\"top\">1002</th>\n",
       "      <th>6</th>\n",
       "      <td>15</td>\n",
       "    </tr>\n",
       "    <tr>\n",
       "      <th>7</th>\n",
       "      <td>26</td>\n",
       "    </tr>\n",
       "    <tr>\n",
       "      <th>8</th>\n",
       "      <td>42</td>\n",
       "    </tr>\n",
       "    <tr>\n",
       "      <th>9</th>\n",
       "      <td>36</td>\n",
       "    </tr>\n",
       "    <tr>\n",
       "      <th>10</th>\n",
       "      <td>33</td>\n",
       "    </tr>\n",
       "  </tbody>\n",
       "</table>\n",
       "</div>"
      ],
      "text/plain": [
       "               calls\n",
       "user_id month       \n",
       "1000    5         22\n",
       "        6         43\n",
       "        7         47\n",
       "        8         52\n",
       "        9         58\n",
       "        10        57\n",
       "        11        43\n",
       "        12        46\n",
       "1001    11        59\n",
       "        12        63\n",
       "1002    6         15\n",
       "        7         26\n",
       "        8         42\n",
       "        9         36\n",
       "        10        33"
      ]
     },
     "execution_count": 18,
     "metadata": {},
     "output_type": "execute_result"
    }
   ],
   "source": [
    "calls_per_month = calls.groupby(['user_id', 'month']).agg(calls=('duration', 'count'))\n",
    "calls_per_month.head(15)"
   ]
  },
  {
   "cell_type": "markdown",
   "metadata": {
    "tags": [
     "start_task"
    ]
   },
   "source": [
    "Посчитаем количество израсходованных минут разговора для каждого пользователя по месяцам."
   ]
  },
  {
   "cell_type": "code",
   "execution_count": 19,
   "metadata": {},
   "outputs": [
    {
     "data": {
      "text/html": [
       "<div>\n",
       "<style scoped>\n",
       "    .dataframe tbody tr th:only-of-type {\n",
       "        vertical-align: middle;\n",
       "    }\n",
       "\n",
       "    .dataframe tbody tr th {\n",
       "        vertical-align: top;\n",
       "    }\n",
       "\n",
       "    .dataframe thead th {\n",
       "        text-align: right;\n",
       "    }\n",
       "</style>\n",
       "<table border=\"1\" class=\"dataframe\">\n",
       "  <thead>\n",
       "    <tr style=\"text-align: right;\">\n",
       "      <th></th>\n",
       "      <th></th>\n",
       "      <th>minutes</th>\n",
       "    </tr>\n",
       "    <tr>\n",
       "      <th>user_id</th>\n",
       "      <th>month</th>\n",
       "      <th></th>\n",
       "    </tr>\n",
       "  </thead>\n",
       "  <tbody>\n",
       "    <tr>\n",
       "      <th rowspan=\"8\" valign=\"top\">1000</th>\n",
       "      <th>5</th>\n",
       "      <td>159</td>\n",
       "    </tr>\n",
       "    <tr>\n",
       "      <th>6</th>\n",
       "      <td>172</td>\n",
       "    </tr>\n",
       "    <tr>\n",
       "      <th>7</th>\n",
       "      <td>340</td>\n",
       "    </tr>\n",
       "    <tr>\n",
       "      <th>8</th>\n",
       "      <td>408</td>\n",
       "    </tr>\n",
       "    <tr>\n",
       "      <th>9</th>\n",
       "      <td>466</td>\n",
       "    </tr>\n",
       "    <tr>\n",
       "      <th>10</th>\n",
       "      <td>350</td>\n",
       "    </tr>\n",
       "    <tr>\n",
       "      <th>11</th>\n",
       "      <td>338</td>\n",
       "    </tr>\n",
       "    <tr>\n",
       "      <th>12</th>\n",
       "      <td>333</td>\n",
       "    </tr>\n",
       "    <tr>\n",
       "      <th rowspan=\"2\" valign=\"top\">1001</th>\n",
       "      <th>11</th>\n",
       "      <td>430</td>\n",
       "    </tr>\n",
       "    <tr>\n",
       "      <th>12</th>\n",
       "      <td>414</td>\n",
       "    </tr>\n",
       "    <tr>\n",
       "      <th rowspan=\"5\" valign=\"top\">1002</th>\n",
       "      <th>6</th>\n",
       "      <td>117</td>\n",
       "    </tr>\n",
       "    <tr>\n",
       "      <th>7</th>\n",
       "      <td>214</td>\n",
       "    </tr>\n",
       "    <tr>\n",
       "      <th>8</th>\n",
       "      <td>289</td>\n",
       "    </tr>\n",
       "    <tr>\n",
       "      <th>9</th>\n",
       "      <td>206</td>\n",
       "    </tr>\n",
       "    <tr>\n",
       "      <th>10</th>\n",
       "      <td>212</td>\n",
       "    </tr>\n",
       "  </tbody>\n",
       "</table>\n",
       "</div>"
      ],
      "text/plain": [
       "               minutes\n",
       "user_id month         \n",
       "1000    5          159\n",
       "        6          172\n",
       "        7          340\n",
       "        8          408\n",
       "        9          466\n",
       "        10         350\n",
       "        11         338\n",
       "        12         333\n",
       "1001    11         430\n",
       "        12         414\n",
       "1002    6          117\n",
       "        7          214\n",
       "        8          289\n",
       "        9          206\n",
       "        10         212"
      ]
     },
     "execution_count": 19,
     "metadata": {},
     "output_type": "execute_result"
    }
   ],
   "source": [
    "minutes_per_month = calls.groupby(['user_id', 'month']).agg(minutes=('duration', 'sum'))\n",
    "minutes_per_month.head(15)"
   ]
  },
  {
   "cell_type": "markdown",
   "metadata": {
    "tags": [
     "start_task"
    ]
   },
   "source": [
    "Так же посчитаем количество отправленных сообщений по месяцам для каждого пользователя."
   ]
  },
  {
   "cell_type": "code",
   "execution_count": 20,
   "metadata": {},
   "outputs": [
    {
     "data": {
      "text/html": [
       "<div>\n",
       "<style scoped>\n",
       "    .dataframe tbody tr th:only-of-type {\n",
       "        vertical-align: middle;\n",
       "    }\n",
       "\n",
       "    .dataframe tbody tr th {\n",
       "        vertical-align: top;\n",
       "    }\n",
       "\n",
       "    .dataframe thead th {\n",
       "        text-align: right;\n",
       "    }\n",
       "</style>\n",
       "<table border=\"1\" class=\"dataframe\">\n",
       "  <thead>\n",
       "    <tr style=\"text-align: right;\">\n",
       "      <th></th>\n",
       "      <th></th>\n",
       "      <th>messages</th>\n",
       "    </tr>\n",
       "    <tr>\n",
       "      <th>user_id</th>\n",
       "      <th>month</th>\n",
       "      <th></th>\n",
       "    </tr>\n",
       "  </thead>\n",
       "  <tbody>\n",
       "    <tr>\n",
       "      <th rowspan=\"8\" valign=\"top\">1000</th>\n",
       "      <th>5</th>\n",
       "      <td>22</td>\n",
       "    </tr>\n",
       "    <tr>\n",
       "      <th>6</th>\n",
       "      <td>60</td>\n",
       "    </tr>\n",
       "    <tr>\n",
       "      <th>7</th>\n",
       "      <td>75</td>\n",
       "    </tr>\n",
       "    <tr>\n",
       "      <th>8</th>\n",
       "      <td>81</td>\n",
       "    </tr>\n",
       "    <tr>\n",
       "      <th>9</th>\n",
       "      <td>57</td>\n",
       "    </tr>\n",
       "    <tr>\n",
       "      <th>10</th>\n",
       "      <td>73</td>\n",
       "    </tr>\n",
       "    <tr>\n",
       "      <th>11</th>\n",
       "      <td>58</td>\n",
       "    </tr>\n",
       "    <tr>\n",
       "      <th>12</th>\n",
       "      <td>70</td>\n",
       "    </tr>\n",
       "    <tr>\n",
       "      <th rowspan=\"7\" valign=\"top\">1002</th>\n",
       "      <th>6</th>\n",
       "      <td>4</td>\n",
       "    </tr>\n",
       "    <tr>\n",
       "      <th>7</th>\n",
       "      <td>11</td>\n",
       "    </tr>\n",
       "    <tr>\n",
       "      <th>8</th>\n",
       "      <td>13</td>\n",
       "    </tr>\n",
       "    <tr>\n",
       "      <th>9</th>\n",
       "      <td>4</td>\n",
       "    </tr>\n",
       "    <tr>\n",
       "      <th>10</th>\n",
       "      <td>10</td>\n",
       "    </tr>\n",
       "    <tr>\n",
       "      <th>11</th>\n",
       "      <td>16</td>\n",
       "    </tr>\n",
       "    <tr>\n",
       "      <th>12</th>\n",
       "      <td>12</td>\n",
       "    </tr>\n",
       "  </tbody>\n",
       "</table>\n",
       "</div>"
      ],
      "text/plain": [
       "               messages\n",
       "user_id month          \n",
       "1000    5            22\n",
       "        6            60\n",
       "        7            75\n",
       "        8            81\n",
       "        9            57\n",
       "        10           73\n",
       "        11           58\n",
       "        12           70\n",
       "1002    6             4\n",
       "        7            11\n",
       "        8            13\n",
       "        9             4\n",
       "        10           10\n",
       "        11           16\n",
       "        12           12"
      ]
     },
     "execution_count": 20,
     "metadata": {},
     "output_type": "execute_result"
    }
   ],
   "source": [
    "messages_per_month = messages.groupby(['user_id', 'month']).agg(messages=('message_date', 'count'))\n",
    "messages_per_month.head(15)"
   ]
  },
  {
   "cell_type": "markdown",
   "metadata": {
    "tags": [
     "start_task"
    ]
   },
   "source": [
    "Ну и посчитаем количество потраченных мегабайт по месяцам для каждого пользователя."
   ]
  },
  {
   "cell_type": "code",
   "execution_count": 21,
   "metadata": {
    "scrolled": true
   },
   "outputs": [
    {
     "data": {
      "text/html": [
       "<div>\n",
       "<style scoped>\n",
       "    .dataframe tbody tr th:only-of-type {\n",
       "        vertical-align: middle;\n",
       "    }\n",
       "\n",
       "    .dataframe tbody tr th {\n",
       "        vertical-align: top;\n",
       "    }\n",
       "\n",
       "    .dataframe thead th {\n",
       "        text-align: right;\n",
       "    }\n",
       "</style>\n",
       "<table border=\"1\" class=\"dataframe\">\n",
       "  <thead>\n",
       "    <tr style=\"text-align: right;\">\n",
       "      <th></th>\n",
       "      <th></th>\n",
       "      <th>mb_used</th>\n",
       "    </tr>\n",
       "    <tr>\n",
       "      <th>user_id</th>\n",
       "      <th>month</th>\n",
       "      <th></th>\n",
       "    </tr>\n",
       "  </thead>\n",
       "  <tbody>\n",
       "    <tr>\n",
       "      <th rowspan=\"8\" valign=\"top\">1000</th>\n",
       "      <th>5</th>\n",
       "      <td>2253.49</td>\n",
       "    </tr>\n",
       "    <tr>\n",
       "      <th>6</th>\n",
       "      <td>23233.77</td>\n",
       "    </tr>\n",
       "    <tr>\n",
       "      <th>7</th>\n",
       "      <td>14003.64</td>\n",
       "    </tr>\n",
       "    <tr>\n",
       "      <th>8</th>\n",
       "      <td>14055.93</td>\n",
       "    </tr>\n",
       "    <tr>\n",
       "      <th>9</th>\n",
       "      <td>14568.91</td>\n",
       "    </tr>\n",
       "    <tr>\n",
       "      <th>10</th>\n",
       "      <td>14702.49</td>\n",
       "    </tr>\n",
       "    <tr>\n",
       "      <th>11</th>\n",
       "      <td>14756.47</td>\n",
       "    </tr>\n",
       "    <tr>\n",
       "      <th>12</th>\n",
       "      <td>9817.61</td>\n",
       "    </tr>\n",
       "    <tr>\n",
       "      <th rowspan=\"2\" valign=\"top\">1001</th>\n",
       "      <th>11</th>\n",
       "      <td>18429.34</td>\n",
       "    </tr>\n",
       "    <tr>\n",
       "      <th>12</th>\n",
       "      <td>14036.66</td>\n",
       "    </tr>\n",
       "    <tr>\n",
       "      <th rowspan=\"5\" valign=\"top\">1002</th>\n",
       "      <th>6</th>\n",
       "      <td>10856.82</td>\n",
       "    </tr>\n",
       "    <tr>\n",
       "      <th>7</th>\n",
       "      <td>17580.10</td>\n",
       "    </tr>\n",
       "    <tr>\n",
       "      <th>8</th>\n",
       "      <td>20319.26</td>\n",
       "    </tr>\n",
       "    <tr>\n",
       "      <th>9</th>\n",
       "      <td>16691.08</td>\n",
       "    </tr>\n",
       "    <tr>\n",
       "      <th>10</th>\n",
       "      <td>13888.25</td>\n",
       "    </tr>\n",
       "  </tbody>\n",
       "</table>\n",
       "</div>"
      ],
      "text/plain": [
       "                mb_used\n",
       "user_id month          \n",
       "1000    5       2253.49\n",
       "        6      23233.77\n",
       "        7      14003.64\n",
       "        8      14055.93\n",
       "        9      14568.91\n",
       "        10     14702.49\n",
       "        11     14756.47\n",
       "        12      9817.61\n",
       "1001    11     18429.34\n",
       "        12     14036.66\n",
       "1002    6      10856.82\n",
       "        7      17580.10\n",
       "        8      20319.26\n",
       "        9      16691.08\n",
       "        10     13888.25"
      ]
     },
     "execution_count": 21,
     "metadata": {},
     "output_type": "execute_result"
    }
   ],
   "source": [
    "internet_per_month = internet.groupby(['user_id', 'month']).agg({'mb_used': 'sum'})\n",
    "internet_per_month.head(15)"
   ]
  },
  {
   "cell_type": "markdown",
   "metadata": {},
   "source": [
    "Далее объединим все посчитанные выше значения в один датафрейм `user_behavior`. Для каждой пары \"пользователь - месяц\" будут доступны информация о тарифе, количестве звонков, сообщений и потраченных мегабайтах."
   ]
  },
  {
   "cell_type": "code",
   "execution_count": 22,
   "metadata": {},
   "outputs": [
    {
     "data": {
      "text/html": [
       "<div>\n",
       "<style scoped>\n",
       "    .dataframe tbody tr th:only-of-type {\n",
       "        vertical-align: middle;\n",
       "    }\n",
       "\n",
       "    .dataframe tbody tr th {\n",
       "        vertical-align: top;\n",
       "    }\n",
       "\n",
       "    .dataframe thead th {\n",
       "        text-align: right;\n",
       "    }\n",
       "</style>\n",
       "<table border=\"1\" class=\"dataframe\">\n",
       "  <thead>\n",
       "    <tr style=\"text-align: right;\">\n",
       "      <th></th>\n",
       "      <th>user_id</th>\n",
       "      <th>month</th>\n",
       "      <th>calls</th>\n",
       "      <th>messages</th>\n",
       "      <th>mb_used</th>\n",
       "      <th>minutes</th>\n",
       "      <th>age</th>\n",
       "      <th>churn_date</th>\n",
       "      <th>city</th>\n",
       "      <th>first_name</th>\n",
       "      <th>last_name</th>\n",
       "      <th>reg_date</th>\n",
       "      <th>tariff</th>\n",
       "    </tr>\n",
       "  </thead>\n",
       "  <tbody>\n",
       "    <tr>\n",
       "      <th>883</th>\n",
       "      <td>1142</td>\n",
       "      <td>4</td>\n",
       "      <td>67.0</td>\n",
       "      <td>24.0</td>\n",
       "      <td>22320.84</td>\n",
       "      <td>475.0</td>\n",
       "      <td>51</td>\n",
       "      <td>NaT</td>\n",
       "      <td>Новосибирск</td>\n",
       "      <td>Симона</td>\n",
       "      <td>Алешкова</td>\n",
       "      <td>2018-03-24</td>\n",
       "      <td>smart</td>\n",
       "    </tr>\n",
       "    <tr>\n",
       "      <th>1987</th>\n",
       "      <td>1314</td>\n",
       "      <td>3</td>\n",
       "      <td>56.0</td>\n",
       "      <td>31.0</td>\n",
       "      <td>23876.80</td>\n",
       "      <td>406.0</td>\n",
       "      <td>27</td>\n",
       "      <td>NaT</td>\n",
       "      <td>Киров</td>\n",
       "      <td>Максим</td>\n",
       "      <td>Амелишко</td>\n",
       "      <td>2018-03-04</td>\n",
       "      <td>smart</td>\n",
       "    </tr>\n",
       "    <tr>\n",
       "      <th>1881</th>\n",
       "      <td>1296</td>\n",
       "      <td>8</td>\n",
       "      <td>35.0</td>\n",
       "      <td>40.0</td>\n",
       "      <td>13664.16</td>\n",
       "      <td>226.0</td>\n",
       "      <td>60</td>\n",
       "      <td>NaT</td>\n",
       "      <td>Москва</td>\n",
       "      <td>Альфред</td>\n",
       "      <td>Черный</td>\n",
       "      <td>2018-06-05</td>\n",
       "      <td>smart</td>\n",
       "    </tr>\n",
       "  </tbody>\n",
       "</table>\n",
       "</div>"
      ],
      "text/plain": [
       "      user_id  month  calls  messages   mb_used  minutes  age churn_date  \\\n",
       "883      1142      4   67.0      24.0  22320.84    475.0   51        NaT   \n",
       "1987     1314      3   56.0      31.0  23876.80    406.0   27        NaT   \n",
       "1881     1296      8   35.0      40.0  13664.16    226.0   60        NaT   \n",
       "\n",
       "             city first_name last_name   reg_date tariff  \n",
       "883   Новосибирск     Симона  Алешкова 2018-03-24  smart  \n",
       "1987        Киров     Максим  Амелишко 2018-03-04  smart  \n",
       "1881       Москва    Альфред    Черный 2018-06-05  smart  "
      ]
     },
     "execution_count": 22,
     "metadata": {},
     "output_type": "execute_result"
    }
   ],
   "source": [
    "user_behavior = calls_per_month\\\n",
    "    .merge(messages_per_month, left_index=True, right_index=True, how='outer')\\\n",
    "    .merge(internet_per_month, left_index=True, right_index=True, how='outer')\\\n",
    "    .merge(minutes_per_month, left_index=True, right_index=True, how='outer')\\\n",
    "    .reset_index()\\\n",
    "    .merge(users, how='left', left_on='user_id', right_on='user_id')\\\n",
    "\n",
    "user_behavior.sample(3)"
   ]
  },
  {
   "cell_type": "markdown",
   "metadata": {},
   "source": [
    "Проверим пропуски в таблице `user_behavior` после объединения."
   ]
  },
  {
   "cell_type": "code",
   "execution_count": 23,
   "metadata": {},
   "outputs": [
    {
     "data": {
      "text/plain": [
       "user_id          0\n",
       "month            0\n",
       "calls           40\n",
       "messages       497\n",
       "mb_used         11\n",
       "minutes         40\n",
       "age              0\n",
       "churn_date    3027\n",
       "city             0\n",
       "first_name       0\n",
       "last_name        0\n",
       "reg_date         0\n",
       "tariff           0\n",
       "dtype: int64"
      ]
     },
     "execution_count": 23,
     "metadata": {},
     "output_type": "execute_result"
    }
   ],
   "source": [
    "user_behavior.isna().sum()"
   ]
  },
  {
   "cell_type": "markdown",
   "metadata": {},
   "source": [
    "Заполним образовавшиеся пропуски в данных нулевым значением."
   ]
  },
  {
   "cell_type": "code",
   "execution_count": 24,
   "metadata": {},
   "outputs": [],
   "source": [
    "user_behavior['calls'] = user_behavior['calls'].fillna(0)\n",
    "user_behavior['minutes'] = user_behavior['minutes'].fillna(0)\n",
    "user_behavior['messages'] = user_behavior['messages'].fillna(0)\n",
    "user_behavior['mb_used'] = user_behavior['mb_used'].fillna(0)"
   ]
  },
  {
   "cell_type": "markdown",
   "metadata": {},
   "source": [
    "Присоединяем информацию о тарифах, но в начале переименуем столбцец в таблице, чтобы получилось их связать по этому полю."
   ]
  },
  {
   "cell_type": "code",
   "execution_count": 25,
   "metadata": {},
   "outputs": [],
   "source": [
    "tariffs = tariffs.rename(\n",
    "    columns={\n",
    "        'tariff_name': 'tariff'\n",
    "    }\n",
    ")"
   ]
  },
  {
   "cell_type": "code",
   "execution_count": 26,
   "metadata": {},
   "outputs": [
    {
     "data": {
      "text/html": [
       "<div>\n",
       "<style scoped>\n",
       "    .dataframe tbody tr th:only-of-type {\n",
       "        vertical-align: middle;\n",
       "    }\n",
       "\n",
       "    .dataframe tbody tr th {\n",
       "        vertical-align: top;\n",
       "    }\n",
       "\n",
       "    .dataframe thead th {\n",
       "        text-align: right;\n",
       "    }\n",
       "</style>\n",
       "<table border=\"1\" class=\"dataframe\">\n",
       "  <thead>\n",
       "    <tr style=\"text-align: right;\">\n",
       "      <th></th>\n",
       "      <th>user_id</th>\n",
       "      <th>month</th>\n",
       "      <th>calls</th>\n",
       "      <th>messages</th>\n",
       "      <th>mb_used</th>\n",
       "      <th>minutes</th>\n",
       "      <th>age</th>\n",
       "      <th>churn_date</th>\n",
       "      <th>city</th>\n",
       "      <th>first_name</th>\n",
       "      <th>last_name</th>\n",
       "      <th>reg_date</th>\n",
       "      <th>tariff</th>\n",
       "      <th>messages_included</th>\n",
       "      <th>mb_per_month_included</th>\n",
       "      <th>minutes_included</th>\n",
       "      <th>rub_monthly_fee</th>\n",
       "      <th>rub_per_gb</th>\n",
       "      <th>rub_per_message</th>\n",
       "      <th>rub_per_minute</th>\n",
       "    </tr>\n",
       "  </thead>\n",
       "  <tbody>\n",
       "    <tr>\n",
       "      <th>1554</th>\n",
       "      <td>1123</td>\n",
       "      <td>11</td>\n",
       "      <td>84.0</td>\n",
       "      <td>16.0</td>\n",
       "      <td>18327.99</td>\n",
       "      <td>548.0</td>\n",
       "      <td>74</td>\n",
       "      <td>NaT</td>\n",
       "      <td>Краснодар</td>\n",
       "      <td>Вениамин</td>\n",
       "      <td>Устинов</td>\n",
       "      <td>2018-03-18</td>\n",
       "      <td>smart</td>\n",
       "      <td>50</td>\n",
       "      <td>15360</td>\n",
       "      <td>500</td>\n",
       "      <td>550</td>\n",
       "      <td>200</td>\n",
       "      <td>3</td>\n",
       "      <td>3</td>\n",
       "    </tr>\n",
       "    <tr>\n",
       "      <th>2134</th>\n",
       "      <td>1248</td>\n",
       "      <td>9</td>\n",
       "      <td>104.0</td>\n",
       "      <td>0.0</td>\n",
       "      <td>23611.27</td>\n",
       "      <td>726.0</td>\n",
       "      <td>51</td>\n",
       "      <td>NaT</td>\n",
       "      <td>Москва</td>\n",
       "      <td>Анатолий</td>\n",
       "      <td>Минаев</td>\n",
       "      <td>2018-05-28</td>\n",
       "      <td>smart</td>\n",
       "      <td>50</td>\n",
       "      <td>15360</td>\n",
       "      <td>500</td>\n",
       "      <td>550</td>\n",
       "      <td>200</td>\n",
       "      <td>3</td>\n",
       "      <td>3</td>\n",
       "    </tr>\n",
       "    <tr>\n",
       "      <th>2801</th>\n",
       "      <td>1411</td>\n",
       "      <td>11</td>\n",
       "      <td>89.0</td>\n",
       "      <td>98.0</td>\n",
       "      <td>16051.49</td>\n",
       "      <td>584.0</td>\n",
       "      <td>36</td>\n",
       "      <td>NaT</td>\n",
       "      <td>Грозный</td>\n",
       "      <td>Берта</td>\n",
       "      <td>Прокофьева</td>\n",
       "      <td>2018-07-13</td>\n",
       "      <td>smart</td>\n",
       "      <td>50</td>\n",
       "      <td>15360</td>\n",
       "      <td>500</td>\n",
       "      <td>550</td>\n",
       "      <td>200</td>\n",
       "      <td>3</td>\n",
       "      <td>3</td>\n",
       "    </tr>\n",
       "  </tbody>\n",
       "</table>\n",
       "</div>"
      ],
      "text/plain": [
       "      user_id  month  calls  messages   mb_used  minutes  age churn_date  \\\n",
       "1554     1123     11   84.0      16.0  18327.99    548.0   74        NaT   \n",
       "2134     1248      9  104.0       0.0  23611.27    726.0   51        NaT   \n",
       "2801     1411     11   89.0      98.0  16051.49    584.0   36        NaT   \n",
       "\n",
       "           city first_name   last_name   reg_date tariff  messages_included  \\\n",
       "1554  Краснодар   Вениамин     Устинов 2018-03-18  smart                 50   \n",
       "2134     Москва   Анатолий      Минаев 2018-05-28  smart                 50   \n",
       "2801    Грозный      Берта  Прокофьева 2018-07-13  smart                 50   \n",
       "\n",
       "      mb_per_month_included  minutes_included  rub_monthly_fee  rub_per_gb  \\\n",
       "1554                  15360               500              550         200   \n",
       "2134                  15360               500              550         200   \n",
       "2801                  15360               500              550         200   \n",
       "\n",
       "      rub_per_message  rub_per_minute  \n",
       "1554                3               3  \n",
       "2134                3               3  \n",
       "2801                3               3  "
      ]
     },
     "execution_count": 26,
     "metadata": {},
     "output_type": "execute_result"
    }
   ],
   "source": [
    "user_behavior = user_behavior.merge(tariffs, on='tariff')\n",
    "user_behavior.sample(3)"
   ]
  },
  {
   "cell_type": "markdown",
   "metadata": {},
   "source": [
    "Считаем количество минут разговора, сообщений и мегабайт, превышающих включенные в тариф.\n"
   ]
  },
  {
   "cell_type": "code",
   "execution_count": 27,
   "metadata": {},
   "outputs": [
    {
     "data": {
      "text/html": [
       "<div>\n",
       "<style scoped>\n",
       "    .dataframe tbody tr th:only-of-type {\n",
       "        vertical-align: middle;\n",
       "    }\n",
       "\n",
       "    .dataframe tbody tr th {\n",
       "        vertical-align: top;\n",
       "    }\n",
       "\n",
       "    .dataframe thead th {\n",
       "        text-align: right;\n",
       "    }\n",
       "</style>\n",
       "<table border=\"1\" class=\"dataframe\">\n",
       "  <thead>\n",
       "    <tr style=\"text-align: right;\">\n",
       "      <th></th>\n",
       "      <th>user_id</th>\n",
       "      <th>month</th>\n",
       "      <th>calls</th>\n",
       "      <th>messages</th>\n",
       "      <th>mb_used</th>\n",
       "      <th>minutes</th>\n",
       "      <th>age</th>\n",
       "      <th>churn_date</th>\n",
       "      <th>city</th>\n",
       "      <th>first_name</th>\n",
       "      <th>...</th>\n",
       "      <th>messages_included</th>\n",
       "      <th>mb_per_month_included</th>\n",
       "      <th>minutes_included</th>\n",
       "      <th>rub_monthly_fee</th>\n",
       "      <th>rub_per_gb</th>\n",
       "      <th>rub_per_message</th>\n",
       "      <th>rub_per_minute</th>\n",
       "      <th>paid_minutes</th>\n",
       "      <th>paid_messages</th>\n",
       "      <th>paid_mb</th>\n",
       "    </tr>\n",
       "  </thead>\n",
       "  <tbody>\n",
       "    <tr>\n",
       "      <th>1631</th>\n",
       "      <td>1142</td>\n",
       "      <td>10</td>\n",
       "      <td>60.0</td>\n",
       "      <td>44.0</td>\n",
       "      <td>20860.79</td>\n",
       "      <td>457.0</td>\n",
       "      <td>51</td>\n",
       "      <td>NaT</td>\n",
       "      <td>Новосибирск</td>\n",
       "      <td>Симона</td>\n",
       "      <td>...</td>\n",
       "      <td>50</td>\n",
       "      <td>15360</td>\n",
       "      <td>500</td>\n",
       "      <td>550</td>\n",
       "      <td>200</td>\n",
       "      <td>3</td>\n",
       "      <td>3</td>\n",
       "      <td>0.0</td>\n",
       "      <td>0.0</td>\n",
       "      <td>5500.79</td>\n",
       "    </tr>\n",
       "    <tr>\n",
       "      <th>1019</th>\n",
       "      <td>1007</td>\n",
       "      <td>6</td>\n",
       "      <td>68.0</td>\n",
       "      <td>26.0</td>\n",
       "      <td>13654.52</td>\n",
       "      <td>545.0</td>\n",
       "      <td>65</td>\n",
       "      <td>NaT</td>\n",
       "      <td>Москва</td>\n",
       "      <td>Юна</td>\n",
       "      <td>...</td>\n",
       "      <td>50</td>\n",
       "      <td>15360</td>\n",
       "      <td>500</td>\n",
       "      <td>550</td>\n",
       "      <td>200</td>\n",
       "      <td>3</td>\n",
       "      <td>3</td>\n",
       "      <td>45.0</td>\n",
       "      <td>0.0</td>\n",
       "      <td>0.00</td>\n",
       "    </tr>\n",
       "    <tr>\n",
       "      <th>325</th>\n",
       "      <td>1185</td>\n",
       "      <td>8</td>\n",
       "      <td>121.0</td>\n",
       "      <td>0.0</td>\n",
       "      <td>42437.48</td>\n",
       "      <td>797.0</td>\n",
       "      <td>26</td>\n",
       "      <td>NaT</td>\n",
       "      <td>Санкт-Петербург</td>\n",
       "      <td>Мануэла</td>\n",
       "      <td>...</td>\n",
       "      <td>1000</td>\n",
       "      <td>30720</td>\n",
       "      <td>3000</td>\n",
       "      <td>1950</td>\n",
       "      <td>150</td>\n",
       "      <td>1</td>\n",
       "      <td>1</td>\n",
       "      <td>0.0</td>\n",
       "      <td>0.0</td>\n",
       "      <td>11717.48</td>\n",
       "    </tr>\n",
       "  </tbody>\n",
       "</table>\n",
       "<p>3 rows × 23 columns</p>\n",
       "</div>"
      ],
      "text/plain": [
       "      user_id  month  calls  messages   mb_used  minutes  age churn_date  \\\n",
       "1631     1142     10   60.0      44.0  20860.79    457.0   51        NaT   \n",
       "1019     1007      6   68.0      26.0  13654.52    545.0   65        NaT   \n",
       "325      1185      8  121.0       0.0  42437.48    797.0   26        NaT   \n",
       "\n",
       "                 city first_name  ... messages_included mb_per_month_included  \\\n",
       "1631      Новосибирск     Симона  ...                50                 15360   \n",
       "1019           Москва        Юна  ...                50                 15360   \n",
       "325   Санкт-Петербург    Мануэла  ...              1000                 30720   \n",
       "\n",
       "     minutes_included  rub_monthly_fee  rub_per_gb  rub_per_message  \\\n",
       "1631              500              550         200                3   \n",
       "1019              500              550         200                3   \n",
       "325              3000             1950         150                1   \n",
       "\n",
       "      rub_per_minute  paid_minutes  paid_messages   paid_mb  \n",
       "1631               3           0.0            0.0   5500.79  \n",
       "1019               3          45.0            0.0      0.00  \n",
       "325                1           0.0            0.0  11717.48  \n",
       "\n",
       "[3 rows x 23 columns]"
      ]
     },
     "execution_count": 27,
     "metadata": {},
     "output_type": "execute_result"
    }
   ],
   "source": [
    "user_behavior['paid_minutes'] = user_behavior['minutes'] - user_behavior['minutes_included']\n",
    "user_behavior['paid_messages'] = user_behavior['messages'] - user_behavior['messages_included']\n",
    "user_behavior['paid_mb'] = user_behavior['mb_used'] - user_behavior['mb_per_month_included']\n",
    "\n",
    "for col in ['paid_messages', 'paid_minutes', 'paid_mb']:\n",
    "    user_behavior.loc[user_behavior[col] < 0, col] = 0\n",
    "    \n",
    "user_behavior.sample(3)"
   ]
  },
  {
   "cell_type": "markdown",
   "metadata": {},
   "source": [
    "Переводим превышающие тариф мегабайты в гигабайты и сохраняем в столбец `paid_gb`."
   ]
  },
  {
   "cell_type": "code",
   "execution_count": 28,
   "metadata": {},
   "outputs": [
    {
     "data": {
      "text/html": [
       "<div>\n",
       "<style scoped>\n",
       "    .dataframe tbody tr th:only-of-type {\n",
       "        vertical-align: middle;\n",
       "    }\n",
       "\n",
       "    .dataframe tbody tr th {\n",
       "        vertical-align: top;\n",
       "    }\n",
       "\n",
       "    .dataframe thead th {\n",
       "        text-align: right;\n",
       "    }\n",
       "</style>\n",
       "<table border=\"1\" class=\"dataframe\">\n",
       "  <thead>\n",
       "    <tr style=\"text-align: right;\">\n",
       "      <th></th>\n",
       "      <th>user_id</th>\n",
       "      <th>month</th>\n",
       "      <th>calls</th>\n",
       "      <th>messages</th>\n",
       "      <th>mb_used</th>\n",
       "      <th>minutes</th>\n",
       "      <th>age</th>\n",
       "      <th>churn_date</th>\n",
       "      <th>city</th>\n",
       "      <th>first_name</th>\n",
       "      <th>...</th>\n",
       "      <th>mb_per_month_included</th>\n",
       "      <th>minutes_included</th>\n",
       "      <th>rub_monthly_fee</th>\n",
       "      <th>rub_per_gb</th>\n",
       "      <th>rub_per_message</th>\n",
       "      <th>rub_per_minute</th>\n",
       "      <th>paid_minutes</th>\n",
       "      <th>paid_messages</th>\n",
       "      <th>paid_mb</th>\n",
       "      <th>paid_gb</th>\n",
       "    </tr>\n",
       "  </thead>\n",
       "  <tbody>\n",
       "    <tr>\n",
       "      <th>2040</th>\n",
       "      <td>1227</td>\n",
       "      <td>4</td>\n",
       "      <td>81.0</td>\n",
       "      <td>28.0</td>\n",
       "      <td>21446.69</td>\n",
       "      <td>615.0</td>\n",
       "      <td>66</td>\n",
       "      <td>NaT</td>\n",
       "      <td>Санкт-Петербург</td>\n",
       "      <td>Раиса</td>\n",
       "      <td>...</td>\n",
       "      <td>15360</td>\n",
       "      <td>500</td>\n",
       "      <td>550</td>\n",
       "      <td>200</td>\n",
       "      <td>3</td>\n",
       "      <td>3</td>\n",
       "      <td>115.0</td>\n",
       "      <td>0.0</td>\n",
       "      <td>6086.69</td>\n",
       "      <td>6</td>\n",
       "    </tr>\n",
       "    <tr>\n",
       "      <th>1028</th>\n",
       "      <td>1009</td>\n",
       "      <td>4</td>\n",
       "      <td>39.0</td>\n",
       "      <td>14.0</td>\n",
       "      <td>14709.22</td>\n",
       "      <td>324.0</td>\n",
       "      <td>24</td>\n",
       "      <td>NaT</td>\n",
       "      <td>Пермь</td>\n",
       "      <td>Василиса</td>\n",
       "      <td>...</td>\n",
       "      <td>15360</td>\n",
       "      <td>500</td>\n",
       "      <td>550</td>\n",
       "      <td>200</td>\n",
       "      <td>3</td>\n",
       "      <td>3</td>\n",
       "      <td>0.0</td>\n",
       "      <td>0.0</td>\n",
       "      <td>0.00</td>\n",
       "      <td>0</td>\n",
       "    </tr>\n",
       "    <tr>\n",
       "      <th>2389</th>\n",
       "      <td>1308</td>\n",
       "      <td>2</td>\n",
       "      <td>31.0</td>\n",
       "      <td>21.0</td>\n",
       "      <td>13556.82</td>\n",
       "      <td>261.0</td>\n",
       "      <td>52</td>\n",
       "      <td>NaT</td>\n",
       "      <td>Москва</td>\n",
       "      <td>Инесса</td>\n",
       "      <td>...</td>\n",
       "      <td>15360</td>\n",
       "      <td>500</td>\n",
       "      <td>550</td>\n",
       "      <td>200</td>\n",
       "      <td>3</td>\n",
       "      <td>3</td>\n",
       "      <td>0.0</td>\n",
       "      <td>0.0</td>\n",
       "      <td>0.00</td>\n",
       "      <td>0</td>\n",
       "    </tr>\n",
       "  </tbody>\n",
       "</table>\n",
       "<p>3 rows × 24 columns</p>\n",
       "</div>"
      ],
      "text/plain": [
       "      user_id  month  calls  messages   mb_used  minutes  age churn_date  \\\n",
       "2040     1227      4   81.0      28.0  21446.69    615.0   66        NaT   \n",
       "1028     1009      4   39.0      14.0  14709.22    324.0   24        NaT   \n",
       "2389     1308      2   31.0      21.0  13556.82    261.0   52        NaT   \n",
       "\n",
       "                 city first_name  ... mb_per_month_included minutes_included  \\\n",
       "2040  Санкт-Петербург      Раиса  ...                 15360              500   \n",
       "1028            Пермь   Василиса  ...                 15360              500   \n",
       "2389           Москва     Инесса  ...                 15360              500   \n",
       "\n",
       "     rub_monthly_fee  rub_per_gb  rub_per_message  rub_per_minute  \\\n",
       "2040             550         200                3               3   \n",
       "1028             550         200                3               3   \n",
       "2389             550         200                3               3   \n",
       "\n",
       "      paid_minutes  paid_messages  paid_mb  paid_gb  \n",
       "2040         115.0            0.0  6086.69        6  \n",
       "1028           0.0            0.0     0.00        0  \n",
       "2389           0.0            0.0     0.00        0  \n",
       "\n",
       "[3 rows x 24 columns]"
      ]
     },
     "execution_count": 28,
     "metadata": {},
     "output_type": "execute_result"
    }
   ],
   "source": [
    "user_behavior['paid_gb'] = np.ceil(user_behavior['paid_mb'] / 1024).astype(int)\n",
    "user_behavior.sample(3)"
   ]
  },
  {
   "cell_type": "markdown",
   "metadata": {},
   "source": [
    "Считаем выручку за минуты разговора, сообщения и интернет."
   ]
  },
  {
   "cell_type": "code",
   "execution_count": 29,
   "metadata": {},
   "outputs": [
    {
     "data": {
      "text/html": [
       "<div>\n",
       "<style scoped>\n",
       "    .dataframe tbody tr th:only-of-type {\n",
       "        vertical-align: middle;\n",
       "    }\n",
       "\n",
       "    .dataframe tbody tr th {\n",
       "        vertical-align: top;\n",
       "    }\n",
       "\n",
       "    .dataframe thead th {\n",
       "        text-align: right;\n",
       "    }\n",
       "</style>\n",
       "<table border=\"1\" class=\"dataframe\">\n",
       "  <thead>\n",
       "    <tr style=\"text-align: right;\">\n",
       "      <th></th>\n",
       "      <th>user_id</th>\n",
       "      <th>month</th>\n",
       "      <th>calls</th>\n",
       "      <th>messages</th>\n",
       "      <th>mb_used</th>\n",
       "      <th>minutes</th>\n",
       "      <th>age</th>\n",
       "      <th>churn_date</th>\n",
       "      <th>city</th>\n",
       "      <th>first_name</th>\n",
       "      <th>...</th>\n",
       "      <th>rub_per_gb</th>\n",
       "      <th>rub_per_message</th>\n",
       "      <th>rub_per_minute</th>\n",
       "      <th>paid_minutes</th>\n",
       "      <th>paid_messages</th>\n",
       "      <th>paid_mb</th>\n",
       "      <th>paid_gb</th>\n",
       "      <th>cost_minutes</th>\n",
       "      <th>cost_messages</th>\n",
       "      <th>cost_gb</th>\n",
       "    </tr>\n",
       "  </thead>\n",
       "  <tbody>\n",
       "    <tr>\n",
       "      <th>2690</th>\n",
       "      <td>1388</td>\n",
       "      <td>9</td>\n",
       "      <td>64.0</td>\n",
       "      <td>0.0</td>\n",
       "      <td>22535.13</td>\n",
       "      <td>481.0</td>\n",
       "      <td>24</td>\n",
       "      <td>NaT</td>\n",
       "      <td>Вологда</td>\n",
       "      <td>Рустам</td>\n",
       "      <td>...</td>\n",
       "      <td>200</td>\n",
       "      <td>3</td>\n",
       "      <td>3</td>\n",
       "      <td>0.0</td>\n",
       "      <td>0.0</td>\n",
       "      <td>7175.13</td>\n",
       "      <td>8</td>\n",
       "      <td>0.0</td>\n",
       "      <td>0.0</td>\n",
       "      <td>1600</td>\n",
       "    </tr>\n",
       "    <tr>\n",
       "      <th>2120</th>\n",
       "      <td>1246</td>\n",
       "      <td>11</td>\n",
       "      <td>46.0</td>\n",
       "      <td>10.0</td>\n",
       "      <td>25623.85</td>\n",
       "      <td>314.0</td>\n",
       "      <td>27</td>\n",
       "      <td>NaT</td>\n",
       "      <td>Санкт-Петербург</td>\n",
       "      <td>Марта</td>\n",
       "      <td>...</td>\n",
       "      <td>200</td>\n",
       "      <td>3</td>\n",
       "      <td>3</td>\n",
       "      <td>0.0</td>\n",
       "      <td>0.0</td>\n",
       "      <td>10263.85</td>\n",
       "      <td>11</td>\n",
       "      <td>0.0</td>\n",
       "      <td>0.0</td>\n",
       "      <td>2200</td>\n",
       "    </tr>\n",
       "    <tr>\n",
       "      <th>2928</th>\n",
       "      <td>1433</td>\n",
       "      <td>12</td>\n",
       "      <td>74.0</td>\n",
       "      <td>97.0</td>\n",
       "      <td>16471.38</td>\n",
       "      <td>516.0</td>\n",
       "      <td>71</td>\n",
       "      <td>NaT</td>\n",
       "      <td>Подольск</td>\n",
       "      <td>Клариса</td>\n",
       "      <td>...</td>\n",
       "      <td>200</td>\n",
       "      <td>3</td>\n",
       "      <td>3</td>\n",
       "      <td>16.0</td>\n",
       "      <td>47.0</td>\n",
       "      <td>1111.38</td>\n",
       "      <td>2</td>\n",
       "      <td>48.0</td>\n",
       "      <td>141.0</td>\n",
       "      <td>400</td>\n",
       "    </tr>\n",
       "  </tbody>\n",
       "</table>\n",
       "<p>3 rows × 27 columns</p>\n",
       "</div>"
      ],
      "text/plain": [
       "      user_id  month  calls  messages   mb_used  minutes  age churn_date  \\\n",
       "2690     1388      9   64.0       0.0  22535.13    481.0   24        NaT   \n",
       "2120     1246     11   46.0      10.0  25623.85    314.0   27        NaT   \n",
       "2928     1433     12   74.0      97.0  16471.38    516.0   71        NaT   \n",
       "\n",
       "                 city first_name  ... rub_per_gb rub_per_message  \\\n",
       "2690          Вологда     Рустам  ...        200               3   \n",
       "2120  Санкт-Петербург      Марта  ...        200               3   \n",
       "2928         Подольск    Клариса  ...        200               3   \n",
       "\n",
       "     rub_per_minute  paid_minutes  paid_messages   paid_mb  paid_gb  \\\n",
       "2690              3           0.0            0.0   7175.13        8   \n",
       "2120              3           0.0            0.0  10263.85       11   \n",
       "2928              3          16.0           47.0   1111.38        2   \n",
       "\n",
       "      cost_minutes  cost_messages  cost_gb  \n",
       "2690           0.0            0.0     1600  \n",
       "2120           0.0            0.0     2200  \n",
       "2928          48.0          141.0      400  \n",
       "\n",
       "[3 rows x 27 columns]"
      ]
     },
     "execution_count": 29,
     "metadata": {},
     "output_type": "execute_result"
    }
   ],
   "source": [
    "user_behavior['cost_minutes'] = user_behavior['paid_minutes'] * user_behavior['rub_per_minute']\n",
    "user_behavior['cost_messages'] = user_behavior['paid_messages'] * user_behavior['rub_per_message']\n",
    "user_behavior['cost_gb'] = user_behavior['paid_gb'] * user_behavior['rub_per_gb']\n",
    "\n",
    "user_behavior.sample(3)"
   ]
  },
  {
   "cell_type": "markdown",
   "metadata": {},
   "source": [
    "Считаем помесячную выручку с каждого пользователя, она будет храниться в столбец `total_cost`."
   ]
  },
  {
   "cell_type": "code",
   "execution_count": 30,
   "metadata": {},
   "outputs": [
    {
     "data": {
      "text/html": [
       "<div>\n",
       "<style scoped>\n",
       "    .dataframe tbody tr th:only-of-type {\n",
       "        vertical-align: middle;\n",
       "    }\n",
       "\n",
       "    .dataframe tbody tr th {\n",
       "        vertical-align: top;\n",
       "    }\n",
       "\n",
       "    .dataframe thead th {\n",
       "        text-align: right;\n",
       "    }\n",
       "</style>\n",
       "<table border=\"1\" class=\"dataframe\">\n",
       "  <thead>\n",
       "    <tr style=\"text-align: right;\">\n",
       "      <th></th>\n",
       "      <th>user_id</th>\n",
       "      <th>month</th>\n",
       "      <th>calls</th>\n",
       "      <th>messages</th>\n",
       "      <th>mb_used</th>\n",
       "      <th>minutes</th>\n",
       "      <th>age</th>\n",
       "      <th>churn_date</th>\n",
       "      <th>city</th>\n",
       "      <th>first_name</th>\n",
       "      <th>...</th>\n",
       "      <th>rub_per_message</th>\n",
       "      <th>rub_per_minute</th>\n",
       "      <th>paid_minutes</th>\n",
       "      <th>paid_messages</th>\n",
       "      <th>paid_mb</th>\n",
       "      <th>paid_gb</th>\n",
       "      <th>cost_minutes</th>\n",
       "      <th>cost_messages</th>\n",
       "      <th>cost_gb</th>\n",
       "      <th>total_cost</th>\n",
       "    </tr>\n",
       "  </thead>\n",
       "  <tbody>\n",
       "    <tr>\n",
       "      <th>496</th>\n",
       "      <td>1277</td>\n",
       "      <td>11</td>\n",
       "      <td>32.0</td>\n",
       "      <td>140.0</td>\n",
       "      <td>10349.28</td>\n",
       "      <td>232.0</td>\n",
       "      <td>30</td>\n",
       "      <td>NaT</td>\n",
       "      <td>Новосибирск</td>\n",
       "      <td>Валерия</td>\n",
       "      <td>...</td>\n",
       "      <td>1</td>\n",
       "      <td>1</td>\n",
       "      <td>0.0</td>\n",
       "      <td>0.0</td>\n",
       "      <td>0.0</td>\n",
       "      <td>0</td>\n",
       "      <td>0.0</td>\n",
       "      <td>0.0</td>\n",
       "      <td>0</td>\n",
       "      <td>1950.0</td>\n",
       "    </tr>\n",
       "    <tr>\n",
       "      <th>2935</th>\n",
       "      <td>1435</td>\n",
       "      <td>7</td>\n",
       "      <td>41.0</td>\n",
       "      <td>0.0</td>\n",
       "      <td>20292.20</td>\n",
       "      <td>234.0</td>\n",
       "      <td>32</td>\n",
       "      <td>NaT</td>\n",
       "      <td>Москва</td>\n",
       "      <td>Евфросинья</td>\n",
       "      <td>...</td>\n",
       "      <td>3</td>\n",
       "      <td>3</td>\n",
       "      <td>0.0</td>\n",
       "      <td>0.0</td>\n",
       "      <td>4932.2</td>\n",
       "      <td>5</td>\n",
       "      <td>0.0</td>\n",
       "      <td>0.0</td>\n",
       "      <td>1000</td>\n",
       "      <td>1550.0</td>\n",
       "    </tr>\n",
       "    <tr>\n",
       "      <th>3100</th>\n",
       "      <td>1478</td>\n",
       "      <td>8</td>\n",
       "      <td>45.0</td>\n",
       "      <td>75.0</td>\n",
       "      <td>13121.79</td>\n",
       "      <td>305.0</td>\n",
       "      <td>75</td>\n",
       "      <td>NaT</td>\n",
       "      <td>Грозный</td>\n",
       "      <td>Таира</td>\n",
       "      <td>...</td>\n",
       "      <td>3</td>\n",
       "      <td>3</td>\n",
       "      <td>0.0</td>\n",
       "      <td>25.0</td>\n",
       "      <td>0.0</td>\n",
       "      <td>0</td>\n",
       "      <td>0.0</td>\n",
       "      <td>75.0</td>\n",
       "      <td>0</td>\n",
       "      <td>625.0</td>\n",
       "    </tr>\n",
       "  </tbody>\n",
       "</table>\n",
       "<p>3 rows × 28 columns</p>\n",
       "</div>"
      ],
      "text/plain": [
       "      user_id  month  calls  messages   mb_used  minutes  age churn_date  \\\n",
       "496      1277     11   32.0     140.0  10349.28    232.0   30        NaT   \n",
       "2935     1435      7   41.0       0.0  20292.20    234.0   32        NaT   \n",
       "3100     1478      8   45.0      75.0  13121.79    305.0   75        NaT   \n",
       "\n",
       "             city  first_name  ... rub_per_message rub_per_minute  \\\n",
       "496   Новосибирск     Валерия  ...               1              1   \n",
       "2935       Москва  Евфросинья  ...               3              3   \n",
       "3100      Грозный       Таира  ...               3              3   \n",
       "\n",
       "     paid_minutes  paid_messages  paid_mb  paid_gb  cost_minutes  \\\n",
       "496           0.0            0.0      0.0        0           0.0   \n",
       "2935          0.0            0.0   4932.2        5           0.0   \n",
       "3100          0.0           25.0      0.0        0           0.0   \n",
       "\n",
       "      cost_messages  cost_gb  total_cost  \n",
       "496             0.0        0      1950.0  \n",
       "2935            0.0     1000      1550.0  \n",
       "3100           75.0        0       625.0  \n",
       "\n",
       "[3 rows x 28 columns]"
      ]
     },
     "execution_count": 30,
     "metadata": {},
     "output_type": "execute_result"
    }
   ],
   "source": [
    "user_behavior['total_cost'] = \\\n",
    "      user_behavior['rub_monthly_fee']\\\n",
    "    + user_behavior['cost_minutes']\\\n",
    "    + user_behavior['cost_messages']\\\n",
    "    + user_behavior['cost_gb']\n",
    "\n",
    "user_behavior.sample(3)"
   ]
  },
  {
   "cell_type": "markdown",
   "metadata": {},
   "source": [
    "Датафрейм `stats_df` для каждой пары \"месяц-тариф\" будет хранить основные характеристики."
   ]
  },
  {
   "cell_type": "code",
   "execution_count": 31,
   "metadata": {},
   "outputs": [
    {
     "data": {
      "text/html": [
       "<div>\n",
       "<style scoped>\n",
       "    .dataframe tbody tr th:only-of-type {\n",
       "        vertical-align: middle;\n",
       "    }\n",
       "\n",
       "    .dataframe tbody tr th {\n",
       "        vertical-align: top;\n",
       "    }\n",
       "\n",
       "    .dataframe thead th {\n",
       "        text-align: right;\n",
       "    }\n",
       "</style>\n",
       "<table border=\"1\" class=\"dataframe\">\n",
       "  <thead>\n",
       "    <tr style=\"text-align: right;\">\n",
       "      <th></th>\n",
       "      <th>month</th>\n",
       "      <th>tariff</th>\n",
       "      <th>calls_mean</th>\n",
       "      <th>internet_mean</th>\n",
       "      <th>messages_mean</th>\n",
       "      <th>minutes_mean</th>\n",
       "      <th>calls_std</th>\n",
       "      <th>internet_std</th>\n",
       "      <th>messages_std</th>\n",
       "      <th>minutes_std</th>\n",
       "      <th>calls_median</th>\n",
       "      <th>internet_median</th>\n",
       "      <th>messages_median</th>\n",
       "      <th>minutes_median</th>\n",
       "    </tr>\n",
       "  </thead>\n",
       "  <tbody>\n",
       "    <tr>\n",
       "      <th>20</th>\n",
       "      <td>11</td>\n",
       "      <td>smart</td>\n",
       "      <td>61.50</td>\n",
       "      <td>16895.70</td>\n",
       "      <td>34.08</td>\n",
       "      <td>435.27</td>\n",
       "      <td>24.80</td>\n",
       "      <td>5340.27</td>\n",
       "      <td>28.39</td>\n",
       "      <td>177.78</td>\n",
       "      <td>60.0</td>\n",
       "      <td>17013.80</td>\n",
       "      <td>28.0</td>\n",
       "      <td>428.5</td>\n",
       "    </tr>\n",
       "    <tr>\n",
       "      <th>3</th>\n",
       "      <td>2</td>\n",
       "      <td>ultra</td>\n",
       "      <td>41.54</td>\n",
       "      <td>11775.94</td>\n",
       "      <td>21.96</td>\n",
       "      <td>297.12</td>\n",
       "      <td>40.97</td>\n",
       "      <td>10644.64</td>\n",
       "      <td>26.77</td>\n",
       "      <td>296.51</td>\n",
       "      <td>25.0</td>\n",
       "      <td>7327.12</td>\n",
       "      <td>5.5</td>\n",
       "      <td>168.0</td>\n",
       "    </tr>\n",
       "    <tr>\n",
       "      <th>5</th>\n",
       "      <td>3</td>\n",
       "      <td>ultra</td>\n",
       "      <td>67.68</td>\n",
       "      <td>17535.55</td>\n",
       "      <td>32.30</td>\n",
       "      <td>489.65</td>\n",
       "      <td>44.84</td>\n",
       "      <td>10951.79</td>\n",
       "      <td>41.62</td>\n",
       "      <td>333.74</td>\n",
       "      <td>57.0</td>\n",
       "      <td>17495.18</td>\n",
       "      <td>20.0</td>\n",
       "      <td>403.0</td>\n",
       "    </tr>\n",
       "    <tr>\n",
       "      <th>7</th>\n",
       "      <td>4</td>\n",
       "      <td>ultra</td>\n",
       "      <td>64.09</td>\n",
       "      <td>16828.13</td>\n",
       "      <td>31.56</td>\n",
       "      <td>458.02</td>\n",
       "      <td>36.27</td>\n",
       "      <td>9718.65</td>\n",
       "      <td>37.51</td>\n",
       "      <td>267.68</td>\n",
       "      <td>61.0</td>\n",
       "      <td>16645.78</td>\n",
       "      <td>17.0</td>\n",
       "      <td>453.0</td>\n",
       "    </tr>\n",
       "    <tr>\n",
       "      <th>6</th>\n",
       "      <td>4</td>\n",
       "      <td>smart</td>\n",
       "      <td>51.31</td>\n",
       "      <td>13462.18</td>\n",
       "      <td>30.74</td>\n",
       "      <td>367.13</td>\n",
       "      <td>25.70</td>\n",
       "      <td>5698.25</td>\n",
       "      <td>24.54</td>\n",
       "      <td>186.49</td>\n",
       "      <td>52.0</td>\n",
       "      <td>14087.65</td>\n",
       "      <td>28.0</td>\n",
       "      <td>368.5</td>\n",
       "    </tr>\n",
       "  </tbody>\n",
       "</table>\n",
       "</div>"
      ],
      "text/plain": [
       "    month tariff  calls_mean  internet_mean  messages_mean  minutes_mean  \\\n",
       "20     11  smart       61.50       16895.70          34.08        435.27   \n",
       "3       2  ultra       41.54       11775.94          21.96        297.12   \n",
       "5       3  ultra       67.68       17535.55          32.30        489.65   \n",
       "7       4  ultra       64.09       16828.13          31.56        458.02   \n",
       "6       4  smart       51.31       13462.18          30.74        367.13   \n",
       "\n",
       "    calls_std  internet_std  messages_std  minutes_std  calls_median  \\\n",
       "20      24.80       5340.27         28.39       177.78          60.0   \n",
       "3       40.97      10644.64         26.77       296.51          25.0   \n",
       "5       44.84      10951.79         41.62       333.74          57.0   \n",
       "7       36.27       9718.65         37.51       267.68          61.0   \n",
       "6       25.70       5698.25         24.54       186.49          52.0   \n",
       "\n",
       "    internet_median  messages_median  minutes_median  \n",
       "20         17013.80             28.0           428.5  \n",
       "3           7327.12              5.5           168.0  \n",
       "5          17495.18             20.0           403.0  \n",
       "7          16645.78             17.0           453.0  \n",
       "6          14087.65             28.0           368.5  "
      ]
     },
     "execution_count": 31,
     "metadata": {},
     "output_type": "execute_result"
    }
   ],
   "source": [
    "# сохранение статистических метрик для каждой пары месяц-тариф\n",
    "# в одной таблице stats_df (среднее значение, стандартное отклонение, медиана)\n",
    "\n",
    "stats_df = user_behavior.pivot_table(\n",
    "            index=['month', 'tariff'],\\\n",
    "            values=['calls', 'minutes', 'messages', 'mb_used'],\\\n",
    "            aggfunc=['mean', 'std', 'median']\\\n",
    ").round(2).reset_index()\n",
    "\n",
    "stats_df.columns=['month', 'tariff', 'calls_mean', 'internet_mean', 'messages_mean', 'minutes_mean',\n",
    "                                     'calls_std',  'internet_std', 'messages_std', 'minutes_std', \n",
    "                                     'calls_median', 'internet_median', 'messages_median',  'minutes_median']\n",
    "\n",
    "stats_df.sample(5)"
   ]
  },
  {
   "cell_type": "markdown",
   "metadata": {},
   "source": [
    "***Вывод:*** В этапе агрегации мы добавили к таблицам с данными солбцы `month` выделив туда месяц события. Данные объединили по месяцам для каждого пользователя используя даннные по количеству звонков и их продолжительности, отправленных сообщений, использованого инернета. Объединили все посчитанные значения в один датафрейм `user_behavior`.\n",
    "\n",
    "После объединения в таблице обнаружились пропуски. Заполнили образовавшиеся пропуски в данных нулевым значением. \n",
    "- далее присоединили информацию о тарифах, но в начале переименовали столбцец `tariffs` в таблице, чтобы получилось их связать по этому полю;\n",
    "- посчитали количество минут разговора, сообщений и мегабайт, превышающих включенные в тариф;\n",
    "- перевели превышающие тариф мегабайты в гигабайты и сохранив их в столбец `paid_gb`;\n",
    "- посчитали выручку за минуты разговора, сообщения и интернет;\n",
    "- вывели помесячную выручку с каждого пользователя и сохранили в столбец `total_cost`;\n",
    "- создали датафрейм `stats_df`. Для каждой пары \"месяц-тариф\" он хранит основные характеристики (mean, std, median)."
   ]
  },
  {
   "cell_type": "markdown",
   "metadata": {},
   "source": [
    "### Анализ данных и подсчёт выручки"
   ]
  },
  {
   "cell_type": "markdown",
   "metadata": {},
   "source": [
    "Посмотрим долю расторгунтых договоров в исходных данных."
   ]
  },
  {
   "cell_type": "code",
   "execution_count": 32,
   "metadata": {},
   "outputs": [
    {
     "data": {
      "text/plain": [
       "7.6"
      ]
     },
     "execution_count": 32,
     "metadata": {},
     "output_type": "execute_result"
    }
   ],
   "source": [
    "users['churn_date'].count() / users['churn_date'].shape[0] * 100"
   ]
  },
  {
   "cell_type": "markdown",
   "metadata": {},
   "source": [
    "Расторгли договор `7.6% клиентов` из датасета."
   ]
  },
  {
   "cell_type": "markdown",
   "metadata": {},
   "source": [
    "Хорошо. Построим распределение среднего количества звонков по видам тарифов и месяцам."
   ]
  },
  {
   "cell_type": "code",
   "execution_count": 33,
   "metadata": {},
   "outputs": [
    {
     "data": {
      "image/png": "[encoded data removed]",
      "text/plain": [
       "<Figure size 1000x600 with 1 Axes>"
      ]
     },
     "metadata": {},
     "output_type": "display_data"
    }
   ],
   "source": [
    "plt.figure(figsize=(10, 6), dpi=100)\n",
    "ax = sns.barplot(x='month',\n",
    "            y='calls_mean',\n",
    "            hue=\"tariff\",\n",
    "            data=stats_df,\n",
    "            palette=['lightblue', 'blue'])\n",
    "\n",
    "ax.set_title('Распределение среднего количества звонков по видам тарифов и месяцам');\n",
    "ax.set(xlabel='Номер месяца', ylabel='Среднее количество звонков');"
   ]
  },
  {
   "cell_type": "markdown",
   "metadata": {},
   "source": [
    "Теперь построим распределение количества клиентов и количеством звонков по видам тарифов."
   ]
  },
  {
   "cell_type": "code",
   "execution_count": 34,
   "metadata": {
    "scrolled": false
   },
   "outputs": [
    {
     "data": {
      "image/png": "[encoded data removed]",
      "text/plain": [
       "<Figure size 1080x576 with 1 Axes>"
      ]
     },
     "metadata": {},
     "output_type": "display_data"
    }
   ],
   "source": [
    "sns.set(rc={'figure.figsize': (15, 8)})\n",
    "user_behavior.groupby('tariff')['calls'].plot(kind='hist', bins=35, alpha=0.5)\n",
    "\n",
    "plt.title('Распределение количества клиентов и количеством звонков по видам тарифов', size=16)\n",
    "plt.legend(['Smart', 'Ultra'], fontsize=16)\n",
    "plt.xlabel('Количество звонков', size=16)\n",
    "plt.ylabel('Количество клиентов', size=16)\n",
    "plt.show()"
   ]
  },
  {
   "cell_type": "markdown",
   "metadata": {},
   "source": [
    "Построим распределение средней продолжительности звонков по видам тарифов и месяцам."
   ]
  },
  {
   "cell_type": "code",
   "execution_count": 35,
   "metadata": {},
   "outputs": [
    {
     "data": {
      "image/png": "[encoded data removed]",
      "text/plain": [
       "<Figure size 1000x600 with 1 Axes>"
      ]
     },
     "metadata": {},
     "output_type": "display_data"
    }
   ],
   "source": [
    "plt.figure(figsize=(10, 6), dpi=100)\n",
    "ax = sns.barplot(x='month',\n",
    "            y='minutes_mean',\n",
    "            hue=\"tariff\",\n",
    "            data=stats_df,\n",
    "            palette=['lightblue', 'blue'])\n",
    "\n",
    "ax.set_title('Распределение продолжительности звонков по видам тарифов и месяцам'); \n",
    "ax.set(xlabel='Номер месяца', ylabel='Средняя продолжительность звонков');"
   ]
  },
  {
   "cell_type": "markdown",
   "metadata": {},
   "source": [
    "По графикам о звонках мы можем сделать выводы, что:\n",
    "- средняя длительность разговоров у абонентов тарифа Ultra больше, чем у абонентов тарифа Smart и количество звонков у них же больше;\n",
    "- в течение года пользователи обоих тарифов увеличивают среднюю продолжительность своих разговоров. Стоит отметить, что феврале у абонентов обоих тарифных планов наблюдались самые низкие показатели;\n",
    "- рост средней длительности разговоров у абонентов тарифа Smart имеет нормальное распределение в течение года. Пользователи тарифа Ultra не проявляют подобной стабильности. "
   ]
  },
  {
   "cell_type": "markdown",
   "metadata": {},
   "source": [
    "Теперь построим распределение среднего количества сообщений по видам тарифов и месяцам."
   ]
  },
  {
   "cell_type": "code",
   "execution_count": 36,
   "metadata": {
    "scrolled": false
   },
   "outputs": [
    {
     "data": {
      "image/png": "[encoded data removed]",
      "text/plain": [
       "<Figure size 1000x600 with 1 Axes>"
      ]
     },
     "metadata": {},
     "output_type": "display_data"
    }
   ],
   "source": [
    "plt.figure(figsize=(10, 6), dpi=100)\n",
    "ax = sns.barplot(x='month',\n",
    "            y='messages_mean',\n",
    "            hue=\"tariff\",\n",
    "            data=stats_df,\n",
    "            palette=['lightblue', 'blue']\n",
    ")\n",
    "\n",
    "ax.set_title('Распределение количества сообщений по видам тарифов и месяцам')\n",
    "ax.set(xlabel='Номер месяца', ylabel='Среднее количество сообщений');"
   ]
  },
  {
   "cell_type": "markdown",
   "metadata": {},
   "source": [
    "Далее график распределение количества клиентов и количества сообщений по видам тарифов."
   ]
  },
  {
   "cell_type": "code",
   "execution_count": 37,
   "metadata": {},
   "outputs": [
    {
     "data": {
      "image/png": "[encoded data removed]",
      "text/plain": [
       "<Figure size 1080x576 with 1 Axes>"
      ]
     },
     "metadata": {},
     "output_type": "display_data"
    }
   ],
   "source": [
    "sns.set(rc={'figure.figsize': (15, 8)})\n",
    "user_behavior.groupby('tariff')['messages'].plot(kind='hist', bins=35, alpha=0.5)\n",
    "\n",
    "plt.title('Распределение количества клиентов и количества сообщений по видам тарифов', size=16)\n",
    "plt.legend(['Smart', 'Ultra'], fontsize=16)\n",
    "plt.xlabel('Количество сообщений', size=16)\n",
    "plt.ylabel('Количество клиентов', size=16)\n",
    "plt.show()"
   ]
  },
  {
   "cell_type": "markdown",
   "metadata": {},
   "source": [
    "По графикам о звонках мы можем сделать выводы, что:\n",
    "- по среднему по количеству сообщений пользователи тарифа Ultra отправляют их больше. В среднем больше на 20 сообщений в месяц. В первых месяцах года, не считая январь, показатели для двух тарифов очень похожи. Во второй половине у абонентв Ultra показатели возрастяют в то время как у Smart они остаются достаточно ровными; \n",
    "- количество сообщений в течение года на обоих тарифах растет. Динамика по отправке сообщений схожа с тенденциями по длительности разговоров; \n",
    "- так же мы заметили, то много людей либо не пользуются смс либо отправляют их очень мало."
   ]
  },
  {
   "cell_type": "markdown",
   "metadata": {},
   "source": [
    "Построим распределение пользователей по интернет трафику в месяц."
   ]
  },
  {
   "cell_type": "code",
   "execution_count": 38,
   "metadata": {},
   "outputs": [
    {
     "data": {
      "image/png": "[encoded data removed]",
      "text/plain": [
       "<Figure size 1000x600 with 1 Axes>"
      ]
     },
     "metadata": {},
     "output_type": "display_data"
    }
   ],
   "source": [
    "plt.figure(figsize=(10, 6), dpi=100)\n",
    "ax = sns.barplot(x='month',\n",
    "            y='internet_mean',\n",
    "            hue=\"tariff\",\n",
    "            data=stats_df,\n",
    "            palette=['lightblue', 'blue']\n",
    ")\n",
    "\n",
    "ax.set_title('Распределение количества потраченного трафика (Мб) по видам тарифов и месяцам')\n",
    "ax.set(xlabel='Номер месяца', ylabel='Среднее количество мегабайт');"
   ]
  },
  {
   "cell_type": "markdown",
   "metadata": {},
   "source": [
    "Сравним количество потраченных мегабайт среди пользователей тарифов Smart и Ultra."
   ]
  },
  {
   "cell_type": "code",
   "execution_count": 39,
   "metadata": {},
   "outputs": [
    {
     "data": {
      "image/png": "[encoded data removed]",
      "text/plain": [
       "<Figure size 1080x576 with 1 Axes>"
      ]
     },
     "metadata": {},
     "output_type": "display_data"
    }
   ],
   "source": [
    "sns.set(rc={'figure.figsize': (15, 8)})\n",
    "user_behavior.groupby('tariff')['mb_used'].plot(kind='hist', bins=35, alpha=0.5)\n",
    "\n",
    "plt.title('Распределение количества клиентов и количества использованого интернета по видам тарифов', size=16)\n",
    "plt.legend(['Smart', 'Ultra'], fontsize=16)\n",
    "plt.xlabel('Количество использованого интернета', size=16)\n",
    "plt.ylabel('Количество клиентов', size=16)\n",
    "plt.show()"
   ]
  },
  {
   "cell_type": "markdown",
   "metadata": {},
   "source": [
    "По графикам о количествеа использованого интернета мы можем сделать выводы, что:\n",
    "- меньше всего пользователи использовали интернет в январе, феврале и апреле; \n",
    "- в среднем абоненты тарифа Smart тратят `15-17 гигабайт` трафика, а абоненты тарифного плана Ultra - `19-21` в месяц."
   ]
  },
  {
   "cell_type": "markdown",
   "metadata": {},
   "source": [
    "Теперь построим `3 графика`, которые описывают превышение лимитов по каждому пункту тарифа."
   ]
  },
  {
   "cell_type": "code",
   "execution_count": 40,
   "metadata": {},
   "outputs": [
    {
     "data": {
      "image/png": "[encoded data removed]",
      "text/plain": [
       "<Figure size 2160x720 with 3 Axes>"
      ]
     },
     "metadata": {},
     "output_type": "display_data"
    }
   ],
   "source": [
    "sns.set(rc={'figure.figsize': (30, 10)})\n",
    "fig, ax = plt.subplots(1, 3)\n",
    "\n",
    "user_behavior.groupby('tariff')['paid_minutes'].plot(kind='hist', ax=ax[0], bins=50)\n",
    "ax[0].set_title('Продолжительность звонков', fontsize=14)\n",
    "ax[0].set_xlabel('Количество минут')\n",
    "ax[0].set_ylabel('Количество пользователей')\n",
    "ax[0].legend(['Smart', 'Ultra'], fontsize=12)\n",
    "\n",
    "user_behavior.groupby('tariff')['paid_messages'].plot(kind='hist', ax=ax[1], bins=50)\n",
    "ax[1].set_title('Количество сообщений', fontsize=14)\n",
    "ax[1].set_xlabel('Количество сообщений')\n",
    "ax[1].set_ylabel('Количество пользователей')\n",
    "ax[1].legend(['Smart', 'Ultra'], fontsize=12)\n",
    "\n",
    "user_behavior.groupby('tariff')['paid_mb'].plot(kind='hist', ax=ax[2], bins=50, alpha=0.7)\n",
    "ax[2].set_title('Объем интернет-трафика', fontsize=14)\n",
    "ax[2].set_xlabel('Количество Мб')\n",
    "ax[2].set_ylabel('Количество пользователей')\n",
    "ax[2].legend(['Smart', 'Ultra'], fontsize=12)\n",
    "\n",
    "fig.suptitle('Графики выхода за рамки тарифа по звонкам, сообщениям и интернету', fontsize=35)\n",
    "\n",
    "plt.show()"
   ]
  },
  {
   "cell_type": "markdown",
   "metadata": {},
   "source": [
    "По графику чётко видно, что много превышений по лимитам у тарифа Smart относительно тарифа Ultra. Особенно по звонкам и интернету."
   ]
  },
  {
   "cell_type": "markdown",
   "metadata": {},
   "source": [
    "***Вывод:*** Этап анализа данных мы начали с того, что посмотрели долю расторгунтых договоров в исходных данных. Расторгли договор `7.6% клиентов` из датасета. \n",
    "\n",
    "Далее мы строили графики и анализировали. Начали со звонков. Построили:\n",
    "- распределение среднего количества звонков по видам тарифов и месяцам;\n",
    "- распределение количества клиентов и количеством звонков по видам тарифов;\n",
    "- распределение средней продолжительности звонков по видам тарифов и месяцам.\n",
    "\n",
    "По этим графикам сделали выводы, что:\n",
    "- средняя длительность разговоров у абонентов тарифа `Ultra` больше, чем у абонентов тарифа `Smart` и количество звонков у них же больше;\n",
    "- в течение года пользователи обоих тарифов увеличивают среднюю продолжительность своих разговоров. Стоит отметить, что феврале у абонентов обоих тарифных планов наблюдались самые низкие показатели;\n",
    "- рост средней длительности разговоров у абонентов тарифа `Smart` имеет нормальное распределение в течение года. Пользователи тарифа `Ultra` нет.\n",
    "\n",
    "Потом мы строили графики для сообщений:\n",
    "- распределение среднего количества сообщений по видам тарифов и месяцам; \n",
    "- распределение количества клиентов и количества сообщений по видам тарифов.\n",
    "\n",
    "Мы сделали выводы, что:\n",
    "- по среднему по количеству сообщений пользователи тарифа `Ultra` отправляют их больше. В среднем `больше на 20 сообщений` в месяц. В первых месяцах года, не считая январь, показатели для двух тарифов очень похожи. Во второй половине у абонентв `Ultra` показатели возрастяют в то время как у `Smart` они остаются достаточно ровными; \n",
    "- количество сообщений в течение года на обоих тарифах растет. Динамика по отправке сообщений схожа с тенденциями по длительности разговоров; \n",
    "- так же мы заметили, то много людей либо не пользуются смс либо отправляют их очень мало.\n",
    "\n",
    "Так же мы строили графики по данным расхода интернета:\n",
    "- распределение пользователей по интернет трафику в месяц; \n",
    "- количество потраченных мегабайт среди пользователей тарифов Smart и Ultra.\n",
    "\n",
    "По графикам о количествеа использованого интернета мы можем сделать выводы, что:\n",
    "- меньше всего пользователи использовали интернет в январе, феврале и апреле; \n",
    "- в среднем абоненты тарифа `Smart` тратят `15-17 гигабайт` трафика, а абоненты тарифного плана `Ultra` - `19-21` в месяц.\n",
    "\n",
    "В конце мы построили `3 графика`, которые описывают превышение лимитов по каждому пункту тарифа.\n",
    "По ним чётко видно, что много превышений по лимитам у тарифа `Smart` относительно тарифа `Ultra`. Особенно по звонкам и интернету."
   ]
  },
  {
   "cell_type": "markdown",
   "metadata": {},
   "source": [
    "### Проверка гипотез"
   ]
  },
  {
   "cell_type": "markdown",
   "metadata": {},
   "source": [
    "Определим `2 гипотезы` и проверим на наших данных. За `alpha возьмём значение 0.05` "
   ]
  },
  {
   "cell_type": "markdown",
   "metadata": {
    "tags": [
     "start_task"
    ]
   },
   "source": [
    "Проверка гипотезы: средняя выручка пользователей тарифов «Ультра» и «Смарт» различаются.\n",
    "\n",
    "```\n",
    "H_0: Выручка (total_cost) пользователей \"Ультра\" = выручка (total_cost) пользователей \"Смарт\"\n",
    "H_a: Выручка (total_cost) пользователей \"Ультра\" ≠ выручка (total_cost) пользователей \"Смарт\"\n",
    "alpha = 0.05\n",
    "```"
   ]
  },
  {
   "cell_type": "code",
   "execution_count": 41,
   "metadata": {},
   "outputs": [
    {
     "name": "stdout",
     "output_type": "stream",
     "text": [
      "4.2606313931076085e-250\n",
      "Отвергаем нулевую гипотезу\n"
     ]
    }
   ],
   "source": [
    "alpha = 0.05\n",
    "\n",
    "results = st.ttest_ind(\n",
    "    user_behavior[user_behavior['tariff'] =='smart']['total_cost'], \n",
    "    user_behavior[user_behavior['tariff'] =='ultra']['total_cost'], equal_var=False)\n",
    "\n",
    "print(results.pvalue)\n",
    "\n",
    "if results.pvalue < alpha:\n",
    "    print(\"Отвергаем нулевую гипотезу\")\n",
    "else:\n",
    "    print(\"Не получилось отвергнуть нулевую гипотезу\")"
   ]
  },
  {
   "cell_type": "markdown",
   "metadata": {
    "tags": [
     "start_task"
    ]
   },
   "source": [
    "Проверка гипотезы: пользователи из Москвы приносят больше выручки, чем пользователи из других городов.\n",
    "\n",
    "```\n",
    "H_0: Выручка (total_cost) пользователей из Москвы = выручка (total_cost) пользователей не из Москвы\n",
    "H_1: Выручка (total_cost) пользователей из Москвы ≠ выручка (total_cost) пользователей не из Москвы\n",
    "alpha = 0.05\n",
    "```"
   ]
  },
  {
   "cell_type": "code",
   "execution_count": 42,
   "metadata": {
    "scrolled": true
   },
   "outputs": [
    {
     "name": "stdout",
     "output_type": "stream",
     "text": [
      "0.5257376663729298\n",
      "Не получилось отвергнуть нулевую гипотезу\n"
     ]
    }
   ],
   "source": [
    "alpha = 0.05\n",
    "\n",
    "results = st.ttest_ind(\n",
    "    user_behavior[(user_behavior['city'] =='Москва')]['total_cost'], \n",
    "    user_behavior[(user_behavior['city'] !='Москва')]['total_cost'], equal_var=False)\n",
    "\n",
    "print(results.pvalue)\n",
    "\n",
    "if results.pvalue < alpha:\n",
    "    print(\"Отвергаем нулевую гипотезу\")\n",
    "else:\n",
    "    print(\"Не получилось отвергнуть нулевую гипотезу\")"
   ]
  },
  {
   "cell_type": "markdown",
   "metadata": {},
   "source": [
    "Ну и для ответа на вопрос от заказчика \"какой тариф выгоднее для оператора связи\" сравним среднее значенеи выручки от абонентов."
   ]
  },
  {
   "cell_type": "code",
   "execution_count": 43,
   "metadata": {},
   "outputs": [
    {
     "data": {
      "text/plain": [
       "2875351.0"
      ]
     },
     "execution_count": 43,
     "metadata": {},
     "output_type": "execute_result"
    }
   ],
   "source": [
    "# средняя выручка от клиентов тарифа Smart \n",
    "user_behavior[user_behavior['tariff'] == 'smart']['total_cost'].sum().mean()"
   ]
  },
  {
   "cell_type": "code",
   "execution_count": 44,
   "metadata": {},
   "outputs": [
    {
     "data": {
      "text/plain": [
       "2039100.0"
      ]
     },
     "execution_count": 44,
     "metadata": {},
     "output_type": "execute_result"
    }
   ],
   "source": [
    "# средняя выручка от клиентов тарифа Ultra \n",
    "user_behavior[user_behavior['tariff'] == 'ultra']['total_cost'].sum().mean()"
   ]
  },
  {
   "cell_type": "markdown",
   "metadata": {},
   "source": [
    "Видим, что значительный перевес в выгоду оператора у тариф Smart."
   ]
  },
  {
   "cell_type": "markdown",
   "metadata": {},
   "source": [
    "***Вывод:*** В этапе проверки гипотез мы проверяли `2 гипотезы`.\n",
    "\n",
    "Первая, что \"средняя выручка пользователей тарифов «Ультра» и «Смарт» различаются\" - она подтвердилась показав `p-value ~ 4.26` и отклонив нулевую гипотезу:\n",
    "```\n",
    "H_0: Выручка (total_cost) пользователей \"Ультра\" = выручка (total_cost) пользователей \"Смарт\"\n",
    "```\n",
    "\n",
    "Вторая, что \"пользователи из Москвы приносят больше выручки, чем пользователи из других городов\" - она не подвердилась показав `p-value ~ 0.52` и не отклонив нулевую гипотезу:\n",
    "```\n",
    "H_0: Выручка (total_cost) пользователей из Москвы = выручка (total_cost) пользователей не из Москвы\n",
    "```\n",
    "Тут же мы отвелили на вопрос от заказчика: \"какой тариф выгоднее для оператора связи\" сравнив средние значенеи выручки от `2 тарифов`. Как итогу у `Smart 2875351`, а у `Ultra 2039100`. Smart выгоднее для операторов."
   ]
  },
  {
   "cell_type": "markdown",
   "metadata": {},
   "source": [
    "### Общий вывод"
   ]
  },
  {
   "cell_type": "markdown",
   "metadata": {},
   "source": [
    "В начале исследования мы подгрузили и обработали данные из 5 таблиц. Что именно мы сделали:\n",
    "- перевели в формат даты столбцы из несколькоих таблиц, а именно `call_date session_date message_date churn_date и reg_date`;\n",
    "- округлили продолжительность звонков и привели к типу `int`;\n",
    "- обнаружили в данных звонки с нулевой продолжительностью. Это обозначены пропущенные звонки, поэтому их не стали удалять;\n",
    "- удалили не нужный столбец с индексами в таблице `internet`;\n",
    "- в столбце `churn_date` (дата расторжения договора) таблицы users есть `462 пропуска из 500 записей`. Это активные пользователи компании. Не стали заполнять пропуски."
   ]
  },
  {
   "cell_type": "markdown",
   "metadata": {},
   "source": [
    "В этапе агрегации мы добавили к таблицам с данными солбцы `month` выделив туда месяц события. Данные объединили по месяцам для каждого пользователя используя даннные по количеству звонков и их продолжительности, отправленных сообщений, использованого инернета. Объединили все посчитанные значения в один датафрейм `user_behavior`.\n",
    "\n",
    "После объединения в таблице обнаружились пропуски. Заполнили образовавшиеся пропуски в данных нулевым значением. \n",
    "- далее присоединили информацию о тарифах, но в начале переименовали столбцец `tariffs` в таблице, чтобы получилось их связать по этому полю;\n",
    "- посчитали количество минут разговора, сообщений и мегабайт, превышающих включенные в тариф;\n",
    "- перевели превышающие тариф мегабайты в гигабайты и сохранив их в столбец `paid_gb`;\n",
    "- посчитали выручку за минуты разговора, сообщения и интернет;\n",
    "- вывели помесячную выручку с каждого пользователя и сохранили в столбец `total_cost`;\n",
    "- создали датафрейм `stats_df`. Для каждой пары \"месяц-тариф\" он хранит основные характеристики (mean, std, median)."
   ]
  },
  {
   "cell_type": "markdown",
   "metadata": {},
   "source": [
    "Этап анализа данных мы начали с того, что посмотрели долю расторгунтых договоров в исходных данных. Расторгли договор `7.6% клиентов` из датасета. \n",
    "\n",
    "Далее мы строили графики и анализировали. Начали со звонков. Построили:\n",
    "- распределение среднего количества звонков по видам тарифов и месяцам;\n",
    "- распределение количества клиентов и количеством звонков по видам тарифов;\n",
    "- распределение средней продолжительности звонков по видам тарифов и месяцам.\n",
    "\n",
    "По этим графикам сделали выводы, что:\n",
    "- средняя длительность разговоров у абонентов тарифа `Ultra` больше, чем у абонентов тарифа `Smart` и количество звонков у них же больше;\n",
    "- в течение года пользователи обоих тарифов увеличивают среднюю продолжительность своих разговоров. Стоит отметить, что феврале у абонентов обоих тарифных планов наблюдались самые низкие показатели;\n",
    "- рост средней длительности разговоров у абонентов тарифа `Smart` имеет нормальное распределение в течение года. Пользователи тарифа `Ultra` нет.\n",
    "\n",
    "Потом мы строили графики для сообщений:\n",
    "- распределение среднего количества сообщений по видам тарифов и месяцам; \n",
    "- распределение количества клиентов и количества сообщений по видам тарифов.\n",
    "\n",
    "Мы сделали выводы, что:\n",
    "- по среднему по количеству сообщений пользователи тарифа `Ultra` отправляют их больше. В среднем `больше на 20 сообщений` в месяц. В первых месяцах года, не считая январь, показатели для двух тарифов очень похожи. Во второй половине у абонентв `Ultra` показатели возрастяют в то время как у `Smart` они остаются достаточно ровными; \n",
    "- количество сообщений в течение года на обоих тарифах растет. Динамика по отправке сообщений схожа с тенденциями по длительности разговоров; \n",
    "- так же мы заметили, то много людей либо не пользуются смс либо отправляют их очень мало.\n",
    "\n",
    "Так же мы строили графики по данным расхода интернета:\n",
    "- распределение пользователей по интернет трафику в месяц; \n",
    "- количество потраченных мегабайт среди пользователей тарифов Smart и Ultra.\n",
    "\n",
    "По графикам о количествеа использованого интернета мы можем сделать выводы, что:\n",
    "- меньше всего пользователи использовали интернет в январе, феврале и апреле; \n",
    "- в среднем абоненты тарифа `Smart` тратят `15-17 гигабайт` трафика, а абоненты тарифного плана `Ultra` - `19-21` в месяц.\n",
    "\n",
    "В конце мы построили `3 графика`, которые описывают превышение лимитов по каждому пункту тарифа.\n",
    "По ним чётко видно, что много превышений по лимитам у тарифа `Smart` относительно тарифа `Ultra`. Особенно по звонкам и интернету."
   ]
  },
  {
   "cell_type": "markdown",
   "metadata": {},
   "source": [
    "В этапе проверки гипотез мы проверяли `2 гипотезы`.\n",
    "\n",
    "Первая, что \"средняя выручка пользователей тарифов «Ультра» и «Смарт» различаются\" - она подтвердилась показав `p-value ~ 4.26` и отклонив нулевую гипотезу:\n",
    "```\n",
    "H_0: Выручка (total_cost) пользователей \"Ультра\" = выручка (total_cost) пользователей \"Смарт\"\n",
    "```\n",
    "\n",
    "Вторая, что \"пользователи из Москвы приносят больше выручки, чем пользователи из других городов\" - она не подвердилась показав `p-value ~ 0.52` и не отклонив нулевую гипотезу:\n",
    "```\n",
    "H_0: Выручка (total_cost) пользователей из Москвы = выручка (total_cost) пользователей не из Москвы\n",
    "```\n",
    "Тут же мы отвелили на вопрос от заказчика: \"какой тариф выгоднее для оператора связи\" сравнив средние значенеи выручки от `2 тарифов`. Как итогу у `Smart 2875351`, а у `Ultra 2039100`. Smart выгоднее для операторов."
   ]
  }
 ],
 "metadata": {
  "ExecuteTimeLog": [
   {
    "duration": 45,
    "start_time": "2022-11-20T14:03:09.934Z"
   },
   {
    "duration": 384,
    "start_time": "2022-11-20T14:03:13.349Z"
   },
   {
    "duration": 501,
    "start_time": "2022-11-20T14:03:16.532Z"
   },
   {
    "duration": 14,
    "start_time": "2022-11-20T14:03:26.391Z"
   },
   {
    "duration": 21,
    "start_time": "2022-11-20T14:03:49.368Z"
   },
   {
    "duration": 589,
    "start_time": "2022-11-20T14:04:34.503Z"
   },
   {
    "duration": 404,
    "start_time": "2022-11-20T14:05:06.198Z"
   },
   {
    "duration": 9,
    "start_time": "2022-11-20T14:05:15.077Z"
   },
   {
    "duration": 19,
    "start_time": "2022-11-20T14:05:27.543Z"
   },
   {
    "duration": 36,
    "start_time": "2022-11-20T14:06:03.783Z"
   },
   {
    "duration": 171,
    "start_time": "2022-11-20T14:06:10.795Z"
   },
   {
    "duration": 146,
    "start_time": "2022-11-20T14:06:43.158Z"
   },
   {
    "duration": 9,
    "start_time": "2022-11-20T14:06:49.199Z"
   },
   {
    "duration": 17,
    "start_time": "2022-11-20T14:06:55.934Z"
   },
   {
    "duration": 67,
    "start_time": "2022-11-20T14:07:14.157Z"
   },
   {
    "duration": 8,
    "start_time": "2022-11-20T14:07:19.733Z"
   },
   {
    "duration": 11,
    "start_time": "2022-11-20T14:07:40.006Z"
   },
   {
    "duration": 80,
    "start_time": "2022-11-20T14:08:01.319Z"
   },
   {
    "duration": 10,
    "start_time": "2022-11-20T14:08:07.598Z"
   },
   {
    "duration": 11,
    "start_time": "2022-11-20T14:08:18.558Z"
   },
   {
    "duration": 13,
    "start_time": "2022-11-20T14:21:10.683Z"
   },
   {
    "duration": 135,
    "start_time": "2022-11-20T14:23:06.905Z"
   },
   {
    "duration": 8,
    "start_time": "2022-11-20T14:25:37.628Z"
   },
   {
    "duration": 7,
    "start_time": "2022-11-20T14:25:46.443Z"
   },
   {
    "duration": 5,
    "start_time": "2022-11-20T14:26:27.844Z"
   },
   {
    "duration": 8,
    "start_time": "2022-11-20T14:26:31.262Z"
   },
   {
    "duration": 7,
    "start_time": "2022-11-20T14:27:26.268Z"
   },
   {
    "duration": 19,
    "start_time": "2022-11-20T14:34:28.827Z"
   },
   {
    "duration": 26,
    "start_time": "2022-11-20T14:35:38.427Z"
   },
   {
    "duration": 14,
    "start_time": "2022-11-20T14:36:07.306Z"
   },
   {
    "duration": 17,
    "start_time": "2022-11-20T14:36:25.258Z"
   },
   {
    "duration": 11,
    "start_time": "2022-11-20T14:40:24.798Z"
   },
   {
    "duration": 8,
    "start_time": "2022-11-20T14:41:35.521Z"
   },
   {
    "duration": 215,
    "start_time": "2022-11-20T14:41:41.178Z"
   },
   {
    "duration": 12,
    "start_time": "2022-11-20T14:42:08.787Z"
   },
   {
    "duration": 207,
    "start_time": "2022-11-20T14:42:38.867Z"
   },
   {
    "duration": 10,
    "start_time": "2022-11-20T14:42:49.410Z"
   },
   {
    "duration": 182,
    "start_time": "2022-11-20T14:43:21.140Z"
   },
   {
    "duration": 22,
    "start_time": "2022-11-20T14:43:47.266Z"
   },
   {
    "duration": 187,
    "start_time": "2022-11-20T14:44:11.729Z"
   },
   {
    "duration": 10,
    "start_time": "2022-11-20T14:47:00.170Z"
   },
   {
    "duration": 25,
    "start_time": "2022-11-20T14:47:12.689Z"
   },
   {
    "duration": 193,
    "start_time": "2022-11-20T14:47:58.131Z"
   },
   {
    "duration": 20,
    "start_time": "2022-11-20T14:48:54.481Z"
   },
   {
    "duration": 11,
    "start_time": "2022-11-20T14:51:49.402Z"
   },
   {
    "duration": 19,
    "start_time": "2022-11-20T14:53:00.049Z"
   },
   {
    "duration": 24,
    "start_time": "2022-11-20T14:53:07.387Z"
   },
   {
    "duration": 7,
    "start_time": "2022-11-20T14:53:32.323Z"
   },
   {
    "duration": 12,
    "start_time": "2022-11-20T14:54:36.475Z"
   },
   {
    "duration": 387,
    "start_time": "2022-11-20T14:55:44.568Z"
   },
   {
    "duration": 157,
    "start_time": "2022-11-20T14:55:44.956Z"
   },
   {
    "duration": 15,
    "start_time": "2022-11-20T14:55:45.115Z"
   },
   {
    "duration": 31,
    "start_time": "2022-11-20T14:55:45.132Z"
   },
   {
    "duration": 406,
    "start_time": "2022-11-20T14:55:45.165Z"
   },
   {
    "duration": 138,
    "start_time": "2022-11-20T14:55:45.573Z"
   },
   {
    "duration": 9,
    "start_time": "2022-11-20T14:55:45.712Z"
   },
   {
    "duration": 42,
    "start_time": "2022-11-20T14:55:45.723Z"
   },
   {
    "duration": 188,
    "start_time": "2022-11-20T14:55:45.767Z"
   },
   {
    "duration": 84,
    "start_time": "2022-11-20T14:55:45.957Z"
   },
   {
    "duration": 7,
    "start_time": "2022-11-20T14:55:46.043Z"
   },
   {
    "duration": 27,
    "start_time": "2022-11-20T14:55:46.051Z"
   },
   {
    "duration": 27,
    "start_time": "2022-11-20T14:55:46.079Z"
   },
   {
    "duration": 7,
    "start_time": "2022-11-20T14:55:46.108Z"
   },
   {
    "duration": 22,
    "start_time": "2022-11-20T14:55:46.116Z"
   },
   {
    "duration": 33,
    "start_time": "2022-11-20T14:55:46.140Z"
   },
   {
    "duration": 10,
    "start_time": "2022-11-20T14:55:46.175Z"
   },
   {
    "duration": 17,
    "start_time": "2022-11-20T14:55:46.187Z"
   },
   {
    "duration": 91,
    "start_time": "2022-11-20T14:55:46.205Z"
   },
   {
    "duration": 9,
    "start_time": "2022-11-20T14:55:46.298Z"
   },
   {
    "duration": 11,
    "start_time": "2022-11-20T14:55:46.309Z"
   },
   {
    "duration": 41,
    "start_time": "2022-11-20T14:55:46.322Z"
   },
   {
    "duration": 14,
    "start_time": "2022-11-20T14:55:46.365Z"
   },
   {
    "duration": 16,
    "start_time": "2022-11-20T14:55:46.380Z"
   },
   {
    "duration": 26,
    "start_time": "2022-11-20T14:55:46.398Z"
   },
   {
    "duration": 31,
    "start_time": "2022-11-20T14:55:46.425Z"
   },
   {
    "duration": 28,
    "start_time": "2022-11-20T14:55:46.458Z"
   },
   {
    "duration": 8,
    "start_time": "2022-11-20T14:55:46.491Z"
   },
   {
    "duration": 4,
    "start_time": "2022-11-20T14:55:46.500Z"
   },
   {
    "duration": 7,
    "start_time": "2022-11-20T14:55:46.506Z"
   },
   {
    "duration": 5,
    "start_time": "2022-11-20T14:55:46.515Z"
   },
   {
    "duration": 31,
    "start_time": "2022-11-20T14:55:46.521Z"
   },
   {
    "duration": 18,
    "start_time": "2022-11-20T14:55:46.554Z"
   },
   {
    "duration": 69,
    "start_time": "2022-11-20T14:55:46.574Z"
   },
   {
    "duration": 0,
    "start_time": "2022-11-20T14:55:46.644Z"
   },
   {
    "duration": 0,
    "start_time": "2022-11-20T14:55:46.646Z"
   },
   {
    "duration": 0,
    "start_time": "2022-11-20T14:55:46.647Z"
   },
   {
    "duration": 0,
    "start_time": "2022-11-20T14:55:46.652Z"
   },
   {
    "duration": 0,
    "start_time": "2022-11-20T14:55:46.653Z"
   },
   {
    "duration": 0,
    "start_time": "2022-11-20T14:55:46.654Z"
   },
   {
    "duration": 0,
    "start_time": "2022-11-20T14:55:46.655Z"
   },
   {
    "duration": 0,
    "start_time": "2022-11-20T14:55:46.656Z"
   },
   {
    "duration": 0,
    "start_time": "2022-11-20T14:55:46.657Z"
   },
   {
    "duration": 0,
    "start_time": "2022-11-20T14:55:46.658Z"
   },
   {
    "duration": 0,
    "start_time": "2022-11-20T14:55:46.659Z"
   },
   {
    "duration": 0,
    "start_time": "2022-11-20T14:55:46.660Z"
   },
   {
    "duration": 0,
    "start_time": "2022-11-20T14:55:46.661Z"
   },
   {
    "duration": 0,
    "start_time": "2022-11-20T14:55:46.662Z"
   },
   {
    "duration": 0,
    "start_time": "2022-11-20T14:55:46.662Z"
   },
   {
    "duration": 0,
    "start_time": "2022-11-20T14:55:46.663Z"
   },
   {
    "duration": 0,
    "start_time": "2022-11-20T14:55:46.664Z"
   },
   {
    "duration": 0,
    "start_time": "2022-11-20T14:55:46.665Z"
   },
   {
    "duration": 0,
    "start_time": "2022-11-20T14:55:46.666Z"
   },
   {
    "duration": 0,
    "start_time": "2022-11-20T14:55:46.667Z"
   },
   {
    "duration": 8,
    "start_time": "2022-11-20T14:56:57.652Z"
   },
   {
    "duration": 14,
    "start_time": "2022-11-20T14:57:02.802Z"
   },
   {
    "duration": 9,
    "start_time": "2022-11-20T14:57:03.224Z"
   },
   {
    "duration": 18,
    "start_time": "2022-11-20T14:57:19.522Z"
   },
   {
    "duration": 8,
    "start_time": "2022-11-20T14:57:20.813Z"
   },
   {
    "duration": 16,
    "start_time": "2022-11-20T14:58:25.834Z"
   },
   {
    "duration": 10,
    "start_time": "2022-11-20T14:58:26.474Z"
   },
   {
    "duration": 5,
    "start_time": "2022-11-20T15:02:35.577Z"
   },
   {
    "duration": 84,
    "start_time": "2022-11-20T15:02:37.129Z"
   },
   {
    "duration": 7,
    "start_time": "2022-11-20T15:04:25.307Z"
   },
   {
    "duration": 5,
    "start_time": "2022-11-20T15:04:31.294Z"
   },
   {
    "duration": 4,
    "start_time": "2022-11-20T15:04:34.572Z"
   },
   {
    "duration": 3,
    "start_time": "2022-11-20T15:05:03.377Z"
   },
   {
    "duration": 7,
    "start_time": "2022-11-20T15:05:19.306Z"
   },
   {
    "duration": 1224,
    "start_time": "2022-11-20T15:10:35.415Z"
   },
   {
    "duration": 4,
    "start_time": "2022-11-20T15:10:40.528Z"
   },
   {
    "duration": 8,
    "start_time": "2022-11-20T15:10:41.409Z"
   },
   {
    "duration": 1388,
    "start_time": "2022-11-20T15:10:42.872Z"
   },
   {
    "duration": 1217,
    "start_time": "2022-11-20T15:10:44.683Z"
   },
   {
    "duration": 0,
    "start_time": "2022-11-20T15:10:45.902Z"
   },
   {
    "duration": 1159,
    "start_time": "2022-11-20T15:10:51.545Z"
   },
   {
    "duration": 378,
    "start_time": "2022-11-20T15:11:04.378Z"
   },
   {
    "duration": 158,
    "start_time": "2022-11-20T15:11:04.758Z"
   },
   {
    "duration": 14,
    "start_time": "2022-11-20T15:11:04.917Z"
   },
   {
    "duration": 30,
    "start_time": "2022-11-20T15:11:04.933Z"
   },
   {
    "duration": 401,
    "start_time": "2022-11-20T15:11:04.964Z"
   },
   {
    "duration": 122,
    "start_time": "2022-11-20T15:11:05.367Z"
   },
   {
    "duration": 8,
    "start_time": "2022-11-20T15:11:05.491Z"
   },
   {
    "duration": 21,
    "start_time": "2022-11-20T15:11:05.500Z"
   },
   {
    "duration": 185,
    "start_time": "2022-11-20T15:11:05.522Z"
   },
   {
    "duration": 90,
    "start_time": "2022-11-20T15:11:05.709Z"
   },
   {
    "duration": 8,
    "start_time": "2022-11-20T15:11:05.800Z"
   },
   {
    "duration": 18,
    "start_time": "2022-11-20T15:11:05.809Z"
   },
   {
    "duration": 36,
    "start_time": "2022-11-20T15:11:05.829Z"
   },
   {
    "duration": 7,
    "start_time": "2022-11-20T15:11:05.867Z"
   },
   {
    "duration": 13,
    "start_time": "2022-11-20T15:11:05.875Z"
   },
   {
    "duration": 40,
    "start_time": "2022-11-20T15:11:05.890Z"
   },
   {
    "duration": 9,
    "start_time": "2022-11-20T15:11:05.932Z"
   },
   {
    "duration": 13,
    "start_time": "2022-11-20T15:11:05.942Z"
   },
   {
    "duration": 75,
    "start_time": "2022-11-20T15:11:05.956Z"
   },
   {
    "duration": 7,
    "start_time": "2022-11-20T15:11:06.033Z"
   },
   {
    "duration": 15,
    "start_time": "2022-11-20T15:11:06.041Z"
   },
   {
    "duration": 25,
    "start_time": "2022-11-20T15:11:06.058Z"
   },
   {
    "duration": 17,
    "start_time": "2022-11-20T15:11:06.084Z"
   },
   {
    "duration": 33,
    "start_time": "2022-11-20T15:11:06.103Z"
   },
   {
    "duration": 29,
    "start_time": "2022-11-20T15:11:06.138Z"
   },
   {
    "duration": 8,
    "start_time": "2022-11-20T15:11:06.169Z"
   },
   {
    "duration": 31,
    "start_time": "2022-11-20T15:11:06.179Z"
   },
   {
    "duration": 7,
    "start_time": "2022-11-20T15:11:06.214Z"
   },
   {
    "duration": 43,
    "start_time": "2022-11-20T15:11:06.223Z"
   },
   {
    "duration": 7,
    "start_time": "2022-11-20T15:11:06.268Z"
   },
   {
    "duration": 18,
    "start_time": "2022-11-20T15:11:06.277Z"
   },
   {
    "duration": 9,
    "start_time": "2022-11-20T15:11:06.297Z"
   },
   {
    "duration": 6,
    "start_time": "2022-11-20T15:11:06.307Z"
   },
   {
    "duration": 108,
    "start_time": "2022-11-20T15:11:06.314Z"
   },
   {
    "duration": 7,
    "start_time": "2022-11-20T15:11:06.424Z"
   },
   {
    "duration": 6,
    "start_time": "2022-11-20T15:11:06.433Z"
   },
   {
    "duration": 4,
    "start_time": "2022-11-20T15:11:06.451Z"
   },
   {
    "duration": 12,
    "start_time": "2022-11-20T15:11:06.456Z"
   },
   {
    "duration": 8,
    "start_time": "2022-11-20T15:11:06.470Z"
   },
   {
    "duration": 7,
    "start_time": "2022-11-20T15:11:06.480Z"
   },
   {
    "duration": 8,
    "start_time": "2022-11-20T15:11:06.489Z"
   },
   {
    "duration": 7,
    "start_time": "2022-11-20T15:11:06.498Z"
   },
   {
    "duration": 57,
    "start_time": "2022-11-20T15:11:06.506Z"
   },
   {
    "duration": 741,
    "start_time": "2022-11-20T15:11:06.565Z"
   },
   {
    "duration": 302,
    "start_time": "2022-11-20T15:11:07.308Z"
   },
   {
    "duration": 290,
    "start_time": "2022-11-20T15:11:07.611Z"
   },
   {
    "duration": 207,
    "start_time": "2022-11-20T15:11:07.902Z"
   },
   {
    "duration": 239,
    "start_time": "2022-11-20T15:11:08.111Z"
   },
   {
    "duration": 201,
    "start_time": "2022-11-20T15:11:08.352Z"
   },
   {
    "duration": 282,
    "start_time": "2022-11-20T15:11:08.554Z"
   },
   {
    "duration": 292,
    "start_time": "2022-11-20T15:11:08.838Z"
   },
   {
    "duration": 3,
    "start_time": "2022-11-20T15:11:09.132Z"
   },
   {
    "duration": 17,
    "start_time": "2022-11-20T15:11:09.136Z"
   },
   {
    "duration": 4,
    "start_time": "2022-11-20T15:11:09.155Z"
   },
   {
    "duration": 8,
    "start_time": "2022-11-20T15:17:22.596Z"
   },
   {
    "duration": 94,
    "start_time": "2022-11-20T15:18:05.100Z"
   },
   {
    "duration": 8,
    "start_time": "2022-11-20T15:18:11.123Z"
   },
   {
    "duration": 34,
    "start_time": "2022-11-20T15:21:01.576Z"
   }
  ],
  "kernelspec": {
   "display_name": "Python 3 (ipykernel)",
   "language": "python",
   "name": "python3"
  },
  "language_info": {
   "codemirror_mode": {
    "name": "ipython",
    "version": 3
   },
   "file_extension": ".py",
   "mimetype": "text/x-python",
   "name": "python",
   "nbconvert_exporter": "python",
   "pygments_lexer": "ipython3",
   "version": "3.9.7"
  },
  "toc": {
   "base_numbering": 1,
   "nav_menu": {},
   "number_sections": true,
   "sideBar": true,
   "skip_h1_title": true,
   "title_cell": "Table of Contents",
   "title_sidebar": "Contents",
   "toc_cell": false,
   "toc_position": {
    "height": "calc(100% - 180px)",
    "left": "10px",
    "top": "150px",
    "width": "165px"
   },
   "toc_section_display": true,
   "toc_window_display": true
  },
  "varInspector": {
   "cols": {
    "lenName": 16,
    "lenType": 16,
    "lenVar": 40
   },
   "kernels_config": {
    "python": {
     "delete_cmd_postfix": "",
     "delete_cmd_prefix": "del ",
     "library": "var_list.py",
     "varRefreshCmd": "print(var_dic_list())"
    },
    "r": {
     "delete_cmd_postfix": ") ",
     "delete_cmd_prefix": "rm(",
     "library": "var_list.r",
     "varRefreshCmd": "cat(var_dic_list()) "
    }
   },
   "types_to_exclude": [
    "module",
    "function",
    "builtin_function_or_method",
    "instance",
    "_Feature"
   ],
   "window_display": false
  }
 },
 "nbformat": 4,
 "nbformat_minor": 2
}
